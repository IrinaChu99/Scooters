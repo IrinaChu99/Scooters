{
 "cells": [
  {
   "cell_type": "markdown",
   "id": "dd380005",
   "metadata": {},
   "source": [
    "# Исследование сервиса аренды самокатов"
   ]
  },
  {
   "cell_type": "markdown",
   "id": "0f9c685b",
   "metadata": {},
   "source": [
    "Рынок проката самокатов стремительно растет, поэтому понимание его особенностей и потребностей пользователей - ключевой фактор успеха любого сервиса. Это исследование позволит получить глубокое представление о рынке, идентифицировать ключевые факторы успеха и спланировать стратегию развития бизнеса.\n",
    "\n",
    "Имеются данные о некоторых пользователях из нескольких городов, а также об их поездках. Необходимо проанализировать данные и проверить некоторые гипотезы, которые могут помочь бизнесу вырасти.\n"
   ]
  },
  {
   "cell_type": "markdown",
   "id": "7e96f592",
   "metadata": {},
   "source": [
    "# Описание данных\n",
    "**Пользователи — `users_go.csv`**\n",
    "- `user_id` - уникальный идентификатор пользователя\n",
    "- `name` - имя пользователя\n",
    "- `age` - возраст\n",
    "- `city` - город\n",
    "- `subscription_type` - тип подписки (free, ultra)\n",
    "\n",
    "**Поездки — `rides_go.csv`**\n",
    "- `user_id` - уникальный идентификатор пользователя\n",
    "- `distance` - расстояние, которое пользователь проехал в текущей сессии (в метрах)\n",
    "- `duration` - продолжительность сессии (в минутах) — время с того момента, как пользователь нажал кнопку «Начать поездку» до момента, как он нажал кнопку «Завершить поездку»\n",
    "- `date` - дата совершения поездки\n",
    "\n",
    "**Подписки — `subscriptions_go.csv`**\n",
    "- `subscription_type` - тип подписки\n",
    "- `minute_price` - стоимость одной минуты поездки по данной подписке\n",
    "- `start_ride_price` - стоимость начала поездки\n",
    "- `subscription_fee` - стоимость ежемесячного платежа"
   ]
  },
  {
   "cell_type": "markdown",
   "id": "65e90f8c",
   "metadata": {},
   "source": [
    "# План работы\n",
    "**Шаг 1. Загрузка данных**\n",
    "1. СчитайтЬ CSV-файлы с данными с помощью библиотеки pandas и сохранить их в датафреймы. Пути к файлам:\n",
    "\n",
    "`/datasets/users_go.csv`\n",
    "\n",
    "`/datasets/rides_go.csv`\n",
    "\n",
    "`/datasets/subscriptions_go.csv`\n",
    "\n",
    "2. Вывести первые строки каждого набора данных. Изучить общую информацию о каждом датафрейме.\n",
    "\n",
    "**Шаг 2. Предобработка данных**\n",
    "1. Привести столбец `date` к типу даты pandas.\n",
    "2. Создать новый столбец с номером месяца на основе столбца `date`.\n",
    "3. Проверить наличие пропущенных значений и дубликатов в датафреймах. Обработать их, если такие значения присутствуют.\n",
    "\n",
    "**Шаг 3. Исследовательский анализ данных**\n",
    "\n",
    "Описать и визуализировать общую информацию о пользователях и поездках:\n",
    "- частота встречаемости городов;\n",
    "- соотношение пользователей с подпиской и без подписки;\n",
    "- возраст пользователей;\n",
    "- расстояние, которое пользователь преодолел за одну поездку;\n",
    "- продолжительность поездок.\n",
    "\n",
    "**Шаг 4. Объединение данных**\n",
    "1. Объединить данные о пользователях, поездках и подписках в один датафрейм. Для этого воспользуемся методом merge().\n",
    "2. Создать ещё два датафрейма из датафрейма, созданного на этапе 4.1:\n",
    "- c данными о пользователях без подписки;\n",
    "- с данными о пользователях с подпиской.\n",
    "3. Визуализировать информацию о расстоянии и времени поездок для пользователей обеих категорий.\n",
    "\n",
    "**Шаг 5. Подсчёт выручки**\n",
    "1. Создать датафрейм с агрегированными данными о поездках на основе датафрейма с объединёнными данными из шага 4.\n",
    "2. В этот же датафрейм добавить столбец с помесячной выручкой, которую принёс каждый пользователь. Для этого обратимся к информации об условиях оплаты для подписчиков и тех, у кого нет подписки. Продолжительность каждой поездки в каждой строке исходного датафрейма для подсчёта стоимости округляется до следующего целого числа.\n",
    "\n",
    "**Шаг 6. Проверка гипотез**\n",
    "\n",
    "Продакт-менеджеры сервиса хотят увеличить количество пользователей с подпиской. Для этого они будут проводить различные акции, но сначала нужно выяснить несколько важных моментов.\n",
    "1. Важно понять, тратят ли пользователи с подпиской больше времени на поездки? Если да, то пользователи с подпиской могут быть «выгоднее» для компании.\n",
    "2. Расстояние одной поездки в 3130 метров — оптимальное с точки зрения износа самоката. Можно ли сказать, что среднее расстояние, которое проезжают пользователи с подпиской за одну поездку, не превышает 3130 метров? Проверить гипотезу и сделать выводы.\n",
    "3. Проверить гипотезу о том, будет ли помесячная выручка от пользователей с подпиской по месяцам выше, чем выручка от пользователей без подписки. Сделать вывод.\n",
    "4. Представить такую ситуацию: техническая команда сервиса обновила сервера, с которыми взаимодействует мобильное приложение. Она надеется, что из-за этого количество обращений в техподдержку значимо снизилось. Некоторый файл содержит для каждого пользователя данные о количестве обращений до обновления и после него. Какой тест понадобился бы для проверки этой гипотезы?\n",
    "\n",
    "**Шаг 7. Распределения**\n",
    "1. Отделу маркетинга GoFast поставили задачу: нужно провести акцию с раздачей промокодов на один бесплатный месяц подписки, в рамках которой как минимум 100 существующих клиентов должны продлить эту подписку. То есть по завершении периода действия подписки пользователь может либо отказаться от неё, либо продлить, совершив соответствующий платёж. \n",
    "Эта акция уже проводилась ранее и по итогу выяснилось, что после бесплатного пробного периода подписку продлевают 10 % пользователей. Выяснить, какое минимальное количество промокодов нужно разослать, чтобы вероятность не выполнить план была примерно 5 %. Подобрать параметры распределения, описывающего эту ситуацию, построить график распределения и сформулировать ответ на вопрос о количестве промокодов.\n",
    "2. Отдел маркетинга рассылает клиентам push-уведомления в мобильном приложении. Клиенты могут открыть его или не открывать. Известно, что уведомления открывают около 40 % получивших клиентов. Отдел планирует разослать 1 млн уведомлений. С помощью аппроксимации построить примерный график распределения и оценить вероятность того, что уведомление откроют не более 399,5 тыс. пользователей."
   ]
  },
  {
   "cell_type": "code",
   "execution_count": 1,
   "id": "72576667",
   "metadata": {},
   "outputs": [],
   "source": [
    "import pandas as pd\n",
    "import numpy as np\n",
    "import matplotlib.pyplot as plt\n",
    "from scipy import stats as st\n",
    "from scipy.stats import binom, poisson\n",
    "from math import sqrt\n",
    "from math import factorial"
   ]
  },
  {
   "cell_type": "markdown",
   "id": "c42cbe00",
   "metadata": {},
   "source": [
    "#### Шаг 1. Загрузка данных"
   ]
  },
  {
   "cell_type": "code",
   "execution_count": 2,
   "id": "eff9f206",
   "metadata": {},
   "outputs": [],
   "source": [
    "try:\n",
    "    data_users = pd.read_csv('users_go.csv')\n",
    "    data_rides = pd.read_csv('rides_go.csv')\n",
    "    data_subscriptions = pd.read_csv('subscriptions_go.csv')\n",
    "except:\n",
    "    data_users = pd.read_csv('https://code.s3.yandex.net/datasets/users_go.csv')\n",
    "    data_rides = pd.read_csv('https://code.s3.yandex.net/datasets/rides_go.csv')\n",
    "    data_subscriptions = pd.read_csv('https://code.s3.yandex.net/datasets/subscriptions_go.csv')    "
   ]
  },
  {
   "cell_type": "code",
   "execution_count": 3,
   "id": "78e6e76d",
   "metadata": {},
   "outputs": [
    {
     "data": {
      "text/html": [
       "<div>\n",
       "<style scoped>\n",
       "    .dataframe tbody tr th:only-of-type {\n",
       "        vertical-align: middle;\n",
       "    }\n",
       "\n",
       "    .dataframe tbody tr th {\n",
       "        vertical-align: top;\n",
       "    }\n",
       "\n",
       "    .dataframe thead th {\n",
       "        text-align: right;\n",
       "    }\n",
       "</style>\n",
       "<table border=\"1\" class=\"dataframe\">\n",
       "  <thead>\n",
       "    <tr style=\"text-align: right;\">\n",
       "      <th></th>\n",
       "      <th>user_id</th>\n",
       "      <th>name</th>\n",
       "      <th>age</th>\n",
       "      <th>city</th>\n",
       "      <th>subscription_type</th>\n",
       "    </tr>\n",
       "  </thead>\n",
       "  <tbody>\n",
       "    <tr>\n",
       "      <th>0</th>\n",
       "      <td>1</td>\n",
       "      <td>Кира</td>\n",
       "      <td>22</td>\n",
       "      <td>Тюмень</td>\n",
       "      <td>ultra</td>\n",
       "    </tr>\n",
       "    <tr>\n",
       "      <th>1</th>\n",
       "      <td>2</td>\n",
       "      <td>Станислав</td>\n",
       "      <td>31</td>\n",
       "      <td>Омск</td>\n",
       "      <td>ultra</td>\n",
       "    </tr>\n",
       "    <tr>\n",
       "      <th>2</th>\n",
       "      <td>3</td>\n",
       "      <td>Алексей</td>\n",
       "      <td>20</td>\n",
       "      <td>Москва</td>\n",
       "      <td>ultra</td>\n",
       "    </tr>\n",
       "    <tr>\n",
       "      <th>3</th>\n",
       "      <td>4</td>\n",
       "      <td>Константин</td>\n",
       "      <td>26</td>\n",
       "      <td>Ростов-на-Дону</td>\n",
       "      <td>ultra</td>\n",
       "    </tr>\n",
       "    <tr>\n",
       "      <th>4</th>\n",
       "      <td>5</td>\n",
       "      <td>Адель</td>\n",
       "      <td>28</td>\n",
       "      <td>Омск</td>\n",
       "      <td>ultra</td>\n",
       "    </tr>\n",
       "    <tr>\n",
       "      <th>5</th>\n",
       "      <td>6</td>\n",
       "      <td>Регина</td>\n",
       "      <td>25</td>\n",
       "      <td>Краснодар</td>\n",
       "      <td>ultra</td>\n",
       "    </tr>\n",
       "    <tr>\n",
       "      <th>6</th>\n",
       "      <td>7</td>\n",
       "      <td>Игорь</td>\n",
       "      <td>23</td>\n",
       "      <td>Омск</td>\n",
       "      <td>ultra</td>\n",
       "    </tr>\n",
       "    <tr>\n",
       "      <th>7</th>\n",
       "      <td>8</td>\n",
       "      <td>Юрий</td>\n",
       "      <td>23</td>\n",
       "      <td>Краснодар</td>\n",
       "      <td>ultra</td>\n",
       "    </tr>\n",
       "    <tr>\n",
       "      <th>8</th>\n",
       "      <td>9</td>\n",
       "      <td>Ян</td>\n",
       "      <td>21</td>\n",
       "      <td>Пятигорск</td>\n",
       "      <td>ultra</td>\n",
       "    </tr>\n",
       "    <tr>\n",
       "      <th>9</th>\n",
       "      <td>10</td>\n",
       "      <td>Валерий</td>\n",
       "      <td>18</td>\n",
       "      <td>Екатеринбург</td>\n",
       "      <td>ultra</td>\n",
       "    </tr>\n",
       "  </tbody>\n",
       "</table>\n",
       "</div>"
      ],
      "text/plain": [
       "   user_id        name  age            city subscription_type\n",
       "0        1        Кира   22          Тюмень             ultra\n",
       "1        2   Станислав   31            Омск             ultra\n",
       "2        3     Алексей   20          Москва             ultra\n",
       "3        4  Константин   26  Ростов-на-Дону             ultra\n",
       "4        5       Адель   28            Омск             ultra\n",
       "5        6      Регина   25       Краснодар             ultra\n",
       "6        7       Игорь   23            Омск             ultra\n",
       "7        8        Юрий   23       Краснодар             ultra\n",
       "8        9          Ян   21       Пятигорск             ultra\n",
       "9       10     Валерий   18    Екатеринбург             ultra"
      ]
     },
     "execution_count": 3,
     "metadata": {},
     "output_type": "execute_result"
    }
   ],
   "source": [
    "data_users.head(10)"
   ]
  },
  {
   "cell_type": "code",
   "execution_count": 4,
   "id": "767f7486",
   "metadata": {},
   "outputs": [
    {
     "name": "stdout",
     "output_type": "stream",
     "text": [
      "<class 'pandas.core.frame.DataFrame'>\n",
      "RangeIndex: 1565 entries, 0 to 1564\n",
      "Data columns (total 5 columns):\n",
      " #   Column             Non-Null Count  Dtype \n",
      "---  ------             --------------  ----- \n",
      " 0   user_id            1565 non-null   int64 \n",
      " 1   name               1565 non-null   object\n",
      " 2   age                1565 non-null   int64 \n",
      " 3   city               1565 non-null   object\n",
      " 4   subscription_type  1565 non-null   object\n",
      "dtypes: int64(2), object(3)\n",
      "memory usage: 61.3+ KB\n"
     ]
    }
   ],
   "source": [
    "data_users.info()"
   ]
  },
  {
   "cell_type": "code",
   "execution_count": 5,
   "id": "2fadcce7",
   "metadata": {},
   "outputs": [
    {
     "data": {
      "image/png": "[encoded data removed]",
      "text/plain": [
       "<Figure size 360x360 with 1 Axes>"
      ]
     },
     "metadata": {
      "needs_background": "light"
     },
     "output_type": "display_data"
    }
   ],
   "source": [
    "data_users['age'].hist(figsize=(5,5));"
   ]
  },
  {
   "cell_type": "code",
   "execution_count": 6,
   "id": "4d6e7b41",
   "metadata": {},
   "outputs": [
    {
     "data": {
      "text/html": [
       "<div>\n",
       "<style scoped>\n",
       "    .dataframe tbody tr th:only-of-type {\n",
       "        vertical-align: middle;\n",
       "    }\n",
       "\n",
       "    .dataframe tbody tr th {\n",
       "        vertical-align: top;\n",
       "    }\n",
       "\n",
       "    .dataframe thead th {\n",
       "        text-align: right;\n",
       "    }\n",
       "</style>\n",
       "<table border=\"1\" class=\"dataframe\">\n",
       "  <thead>\n",
       "    <tr style=\"text-align: right;\">\n",
       "      <th></th>\n",
       "      <th>user_id</th>\n",
       "      <th>distance</th>\n",
       "      <th>duration</th>\n",
       "      <th>date</th>\n",
       "    </tr>\n",
       "  </thead>\n",
       "  <tbody>\n",
       "    <tr>\n",
       "      <th>0</th>\n",
       "      <td>1</td>\n",
       "      <td>4409.919140</td>\n",
       "      <td>25.599769</td>\n",
       "      <td>2021-01-01</td>\n",
       "    </tr>\n",
       "    <tr>\n",
       "      <th>1</th>\n",
       "      <td>1</td>\n",
       "      <td>2617.592153</td>\n",
       "      <td>15.816871</td>\n",
       "      <td>2021-01-18</td>\n",
       "    </tr>\n",
       "    <tr>\n",
       "      <th>2</th>\n",
       "      <td>1</td>\n",
       "      <td>754.159807</td>\n",
       "      <td>6.232113</td>\n",
       "      <td>2021-04-20</td>\n",
       "    </tr>\n",
       "    <tr>\n",
       "      <th>3</th>\n",
       "      <td>1</td>\n",
       "      <td>2694.783254</td>\n",
       "      <td>18.511000</td>\n",
       "      <td>2021-08-11</td>\n",
       "    </tr>\n",
       "    <tr>\n",
       "      <th>4</th>\n",
       "      <td>1</td>\n",
       "      <td>4028.687306</td>\n",
       "      <td>26.265803</td>\n",
       "      <td>2021-08-28</td>\n",
       "    </tr>\n",
       "    <tr>\n",
       "      <th>5</th>\n",
       "      <td>1</td>\n",
       "      <td>2770.890808</td>\n",
       "      <td>16.650138</td>\n",
       "      <td>2021-10-09</td>\n",
       "    </tr>\n",
       "    <tr>\n",
       "      <th>6</th>\n",
       "      <td>1</td>\n",
       "      <td>3039.020292</td>\n",
       "      <td>14.927879</td>\n",
       "      <td>2021-10-19</td>\n",
       "    </tr>\n",
       "    <tr>\n",
       "      <th>7</th>\n",
       "      <td>1</td>\n",
       "      <td>2842.118050</td>\n",
       "      <td>23.117468</td>\n",
       "      <td>2021-11-06</td>\n",
       "    </tr>\n",
       "    <tr>\n",
       "      <th>8</th>\n",
       "      <td>1</td>\n",
       "      <td>3412.690668</td>\n",
       "      <td>15.238072</td>\n",
       "      <td>2021-11-14</td>\n",
       "    </tr>\n",
       "    <tr>\n",
       "      <th>9</th>\n",
       "      <td>1</td>\n",
       "      <td>748.690645</td>\n",
       "      <td>15.041884</td>\n",
       "      <td>2021-11-22</td>\n",
       "    </tr>\n",
       "  </tbody>\n",
       "</table>\n",
       "</div>"
      ],
      "text/plain": [
       "   user_id     distance   duration        date\n",
       "0        1  4409.919140  25.599769  2021-01-01\n",
       "1        1  2617.592153  15.816871  2021-01-18\n",
       "2        1   754.159807   6.232113  2021-04-20\n",
       "3        1  2694.783254  18.511000  2021-08-11\n",
       "4        1  4028.687306  26.265803  2021-08-28\n",
       "5        1  2770.890808  16.650138  2021-10-09\n",
       "6        1  3039.020292  14.927879  2021-10-19\n",
       "7        1  2842.118050  23.117468  2021-11-06\n",
       "8        1  3412.690668  15.238072  2021-11-14\n",
       "9        1   748.690645  15.041884  2021-11-22"
      ]
     },
     "execution_count": 6,
     "metadata": {},
     "output_type": "execute_result"
    }
   ],
   "source": [
    "data_rides.head(10)"
   ]
  },
  {
   "cell_type": "code",
   "execution_count": 7,
   "id": "0b99e2f3",
   "metadata": {},
   "outputs": [
    {
     "name": "stdout",
     "output_type": "stream",
     "text": [
      "<class 'pandas.core.frame.DataFrame'>\n",
      "RangeIndex: 18068 entries, 0 to 18067\n",
      "Data columns (total 4 columns):\n",
      " #   Column    Non-Null Count  Dtype  \n",
      "---  ------    --------------  -----  \n",
      " 0   user_id   18068 non-null  int64  \n",
      " 1   distance  18068 non-null  float64\n",
      " 2   duration  18068 non-null  float64\n",
      " 3   date      18068 non-null  object \n",
      "dtypes: float64(2), int64(1), object(1)\n",
      "memory usage: 564.8+ KB\n"
     ]
    }
   ],
   "source": [
    "data_rides.info()"
   ]
  },
  {
   "cell_type": "code",
   "execution_count": 8,
   "id": "886d32f0",
   "metadata": {},
   "outputs": [
    {
     "data": {
      "image/png": "[encoded data removed]",
      "text/plain": [
       "<Figure size 360x216 with 1 Axes>"
      ]
     },
     "metadata": {
      "needs_background": "light"
     },
     "output_type": "display_data"
    }
   ],
   "source": [
    "data_rides['distance'].hist(figsize=(5,3));"
   ]
  },
  {
   "cell_type": "code",
   "execution_count": 9,
   "id": "19050b41",
   "metadata": {},
   "outputs": [
    {
     "data": {
      "image/png": "[encoded data removed]",
      "text/plain": [
       "<Figure size 360x216 with 1 Axes>"
      ]
     },
     "metadata": {
      "needs_background": "light"
     },
     "output_type": "display_data"
    }
   ],
   "source": [
    "data_rides['duration'].hist(figsize=(5,3));"
   ]
  },
  {
   "cell_type": "code",
   "execution_count": 10,
   "id": "58d1ebb0",
   "metadata": {},
   "outputs": [
    {
     "data": {
      "text/html": [
       "<div>\n",
       "<style scoped>\n",
       "    .dataframe tbody tr th:only-of-type {\n",
       "        vertical-align: middle;\n",
       "    }\n",
       "\n",
       "    .dataframe tbody tr th {\n",
       "        vertical-align: top;\n",
       "    }\n",
       "\n",
       "    .dataframe thead th {\n",
       "        text-align: right;\n",
       "    }\n",
       "</style>\n",
       "<table border=\"1\" class=\"dataframe\">\n",
       "  <thead>\n",
       "    <tr style=\"text-align: right;\">\n",
       "      <th></th>\n",
       "      <th>subscription_type</th>\n",
       "      <th>minute_price</th>\n",
       "      <th>start_ride_price</th>\n",
       "      <th>subscription_fee</th>\n",
       "    </tr>\n",
       "  </thead>\n",
       "  <tbody>\n",
       "    <tr>\n",
       "      <th>0</th>\n",
       "      <td>free</td>\n",
       "      <td>8</td>\n",
       "      <td>50</td>\n",
       "      <td>0</td>\n",
       "    </tr>\n",
       "    <tr>\n",
       "      <th>1</th>\n",
       "      <td>ultra</td>\n",
       "      <td>6</td>\n",
       "      <td>0</td>\n",
       "      <td>199</td>\n",
       "    </tr>\n",
       "  </tbody>\n",
       "</table>\n",
       "</div>"
      ],
      "text/plain": [
       "  subscription_type  minute_price  start_ride_price  subscription_fee\n",
       "0              free             8                50                 0\n",
       "1             ultra             6                 0               199"
      ]
     },
     "execution_count": 10,
     "metadata": {},
     "output_type": "execute_result"
    }
   ],
   "source": [
    "data_subscriptions.head(5)"
   ]
  },
  {
   "cell_type": "code",
   "execution_count": 11,
   "id": "ada88012",
   "metadata": {},
   "outputs": [
    {
     "name": "stdout",
     "output_type": "stream",
     "text": [
      "<class 'pandas.core.frame.DataFrame'>\n",
      "RangeIndex: 2 entries, 0 to 1\n",
      "Data columns (total 4 columns):\n",
      " #   Column             Non-Null Count  Dtype \n",
      "---  ------             --------------  ----- \n",
      " 0   subscription_type  2 non-null      object\n",
      " 1   minute_price       2 non-null      int64 \n",
      " 2   start_ride_price   2 non-null      int64 \n",
      " 3   subscription_fee   2 non-null      int64 \n",
      "dtypes: int64(3), object(1)\n",
      "memory usage: 192.0+ bytes\n"
     ]
    }
   ],
   "source": [
    "data_subscriptions.info()"
   ]
  },
  {
   "cell_type": "markdown",
   "id": "06dbb5c3",
   "metadata": {},
   "source": [
    "**Вывод:** по первичному просмотру данных, мы имеем:\n",
    "- В датасете `data_users` 1565 строк и 5 колонок. Данные не имеют пропущенных значений, а также все столбцы имеют правильный тип данных. Наиболее часто встречаемый возраст пользователя - 25 лет.\n",
    "- В датасете `data_rides` 18068 строк и 4 колонки. Данные не имеют пропущенных значений. В данных не все столбцы имеют правильный тип данных (`date`). Наиболее часто встречаемая дистанция, которое пользователь проехал в текущей сессии - 3500 м. Наиболее часто встречаемая продолжительность сессии - 18 минут.\n",
    "- В датасете `subscriptions` 2 строки и 4 колонки. Данные не имеют пропущенных значений, а также все столбцы имеют правильный тип данных."
   ]
  },
  {
   "cell_type": "markdown",
   "id": "e95ebca7",
   "metadata": {},
   "source": [
    "#### Шаг 2. Предобработка данных"
   ]
  },
  {
   "cell_type": "code",
   "execution_count": 12,
   "id": "af6d202c",
   "metadata": {},
   "outputs": [],
   "source": [
    "#Приведем столбец `date` в датасете `data_rides` к правильному типу \"datetime64\"\n",
    "data_rides['date'] = pd.to_datetime(data_rides['date'], format = '%Y-%m-%d')"
   ]
  },
  {
   "cell_type": "code",
   "execution_count": 13,
   "id": "3f3d5414",
   "metadata": {},
   "outputs": [],
   "source": [
    "#Создим новый столбец с номером месяца на основе столбца `date`\n",
    "data_rides['month'] = data_rides['date'].dt.month"
   ]
  },
  {
   "cell_type": "code",
   "execution_count": 14,
   "id": "5df2bc79",
   "metadata": {},
   "outputs": [
    {
     "data": {
      "text/plain": [
       "31"
      ]
     },
     "execution_count": 14,
     "metadata": {},
     "output_type": "execute_result"
    }
   ],
   "source": [
    "#Проверим наличие дубликатов в датасете `data_users`\n",
    "data_users.duplicated().sum()"
   ]
  },
  {
   "cell_type": "code",
   "execution_count": 15,
   "id": "6cec4edb",
   "metadata": {},
   "outputs": [
    {
     "data": {
      "text/plain": [
       "0"
      ]
     },
     "execution_count": 15,
     "metadata": {},
     "output_type": "execute_result"
    }
   ],
   "source": [
    "#Проверим наличие дубликатов в датасете `data_rides`\n",
    "data_rides.duplicated().sum()"
   ]
  },
  {
   "cell_type": "code",
   "execution_count": 16,
   "id": "4b040d7f",
   "metadata": {},
   "outputs": [
    {
     "data": {
      "text/plain": [
       "0"
      ]
     },
     "execution_count": 16,
     "metadata": {},
     "output_type": "execute_result"
    }
   ],
   "source": [
    "#Избавимся от дубликатов в датасете `data_users`\n",
    "data_users.drop_duplicates(inplace=True)\n",
    "data_users.duplicated().sum()"
   ]
  },
  {
   "cell_type": "code",
   "execution_count": 17,
   "id": "db5ee459",
   "metadata": {},
   "outputs": [
    {
     "data": {
      "text/plain": [
       "array([2021], dtype=int64)"
      ]
     },
     "execution_count": 17,
     "metadata": {},
     "output_type": "execute_result"
    }
   ],
   "source": [
    "# Проверим за какой период у нас данные\n",
    "data_rides['date'].dt.year.unique()"
   ]
  },
  {
   "cell_type": "code",
   "execution_count": 18,
   "id": "322b6ba3",
   "metadata": {},
   "outputs": [
    {
     "name": "stdout",
     "output_type": "stream",
     "text": [
      "Максимальная продолжительность поездки: 40.8 минут\n",
      "Минимальная продолжительность поездки: 0.5 минут\n"
     ]
    }
   ],
   "source": [
    "print('Максимальная продолжительность поездки:', data_rides['duration'].max().round(1), 'минут')\n",
    "print('Минимальная продолжительность поездки:', data_rides['duration'].min(), 'минут')"
   ]
  },
  {
   "cell_type": "markdown",
   "id": "0fb1a574",
   "metadata": {},
   "source": [
    "**Вывод:** по итогам предобработки данных, был приведен столбец `date` в датасете `data_rides`с датой к правильному типу данных, добавлен в датасет `data_rides` столбец `month` с номером месяца по столбцу с датой. Проверены датасеты `data_users` и `data_rides` на дубликаты. Выявленные дубликаты были удалены. Проверен за какой период данные. Проверен столбец продолжительности поездок на предмет аномалии. Получилось 40.8 минут и 0.5 минут, как показывает практика, и такое время поездок бывает в реальной жизни."
   ]
  },
  {
   "cell_type": "markdown",
   "id": "212593c7",
   "metadata": {},
   "source": [
    "#### Шаг 3. Исследовательский анализ данных"
   ]
  },
  {
   "cell_type": "markdown",
   "id": "1e226ea6",
   "metadata": {},
   "source": [
    "Опишем и визуализируем общую информацию о пользователях и поездках"
   ]
  },
  {
   "cell_type": "code",
   "execution_count": 19,
   "id": "93093ae4",
   "metadata": {},
   "outputs": [
    {
     "name": "stdout",
     "output_type": "stream",
     "text": [
      "Пятигорск         219\n",
      "Екатеринбург      204\n",
      "Ростов-на-Дону    198\n",
      "Краснодар         193\n",
      "Сочи              189\n",
      "Омск              183\n",
      "Тюмень            180\n",
      "Москва            168\n",
      "Name: city, dtype: int64\n"
     ]
    },
    {
     "data": {
      "image/png": "[encoded data removed]",
      "text/plain": [
       "<Figure size 792x432 with 1 Axes>"
      ]
     },
     "metadata": {
      "needs_background": "light"
     },
     "output_type": "display_data"
    }
   ],
   "source": [
    "#частота встречаемости городов\n",
    "print(data_users['city'].value_counts())\n",
    "data_users['city'].value_counts().plot(kind='bar', grid=True, title='Частота встречаемости городов', ylabel = 'Количество', xlabel = 'Город', figsize=(11,6));"
   ]
  },
  {
   "cell_type": "markdown",
   "id": "186e593e",
   "metadata": {},
   "source": [
    "**Вывод:** Наиболее часто встречаемый город аренды самокатов GoFast - Пятигорск (с частотой втсречаемости 219). Наименеее встречаемый - Москва (с частотой втсречаемости 168)."
   ]
  },
  {
   "cell_type": "code",
   "execution_count": 20,
   "id": "a244ac05",
   "metadata": {},
   "outputs": [
    {
     "data": {
      "image/png": "[encoded data removed]",
      "text/plain": [
       "<Figure size 504x504 with 1 Axes>"
      ]
     },
     "metadata": {},
     "output_type": "display_data"
    }
   ],
   "source": [
    "# соотношение пользователей с подпиской и без подписки\n",
    "data_users['subscription_type'].value_counts().plot(kind='pie', title = 'Соотношение пользователей с подпиской (ultra) и без подписки (free)', figsize=(7,7), autopct='%1.1f%%');"
   ]
  },
  {
   "cell_type": "markdown",
   "id": "226ab376",
   "metadata": {},
   "source": [
    "**Вывод:** В соотношении пользователей с подпиской и без подписки преобладают пользователи без подписки (в процентом соотношении 54,4%)."
   ]
  },
  {
   "cell_type": "code",
   "execution_count": 21,
   "id": "2d006175",
   "metadata": {},
   "outputs": [
    {
     "data": {
      "image/png": "[encoded data removed]",
      "text/plain": [
       "<Figure size 1152x432 with 1 Axes>"
      ]
     },
     "metadata": {
      "needs_background": "light"
     },
     "output_type": "display_data"
    }
   ],
   "source": [
    "#возраст пользователей\n",
    "data_users['age'].plot(kind='hist', grid=True, title='Возраст пользователей', figsize=(16,6));\n",
    "plt.xlabel('Возраст')\n",
    "plt.ylabel('Количество')\n",
    "plt.show()"
   ]
  },
  {
   "cell_type": "markdown",
   "id": "41ef5bed",
   "metadata": {},
   "source": [
    "**Вывод:** Наиболее часто встречаемый возраст пользователя совершавшего аренду самокатов GoFast - 25 лет. Наименеее встречаемый - 43 года."
   ]
  },
  {
   "cell_type": "code",
   "execution_count": 22,
   "id": "bcea1829",
   "metadata": {},
   "outputs": [
    {
     "data": {
      "image/png": "[encoded data removed]",
      "text/plain": [
       "<Figure size 1152x432 with 1 Axes>"
      ]
     },
     "metadata": {
      "needs_background": "light"
     },
     "output_type": "display_data"
    }
   ],
   "source": [
    "#расстояние, которое пользователь преодолел за одну поездку\n",
    "data_rides['distance'].plot(kind='hist', grid=True, title='Расстояние в метрах, которое пользователь преодолел за одну поездку', figsize=(16,6));\n",
    "plt.xlabel('Расстояние поездок в метрах')\n",
    "plt.ylabel('Количество поездок')\n",
    "plt.show()"
   ]
  },
  {
   "cell_type": "markdown",
   "id": "badfcaf8",
   "metadata": {},
   "source": [
    "**Вывод:** Наиболее часто встречаемый диапазон расстояния, которое пользователь преодолел за одну поездку: 2.9-3.6 км. Реже всего проезжают расстояния свыше 5 км."
   ]
  },
  {
   "cell_type": "code",
   "execution_count": 23,
   "id": "e854fcbc",
   "metadata": {
    "scrolled": true
   },
   "outputs": [
    {
     "data": {
      "image/png": "[encoded data removed]",
      "text/plain": [
       "<Figure size 1152x432 with 1 Axes>"
      ]
     },
     "metadata": {
      "needs_background": "light"
     },
     "output_type": "display_data"
    }
   ],
   "source": [
    "#продолжительность поездок\n",
    "data_rides['duration'].plot(kind='hist', grid=True, title='Продолжительность поездок в минутах', figsize=(16,6));\n",
    "plt.xlabel('Продолжительность поездок в минутах')\n",
    "plt.ylabel('Количество поездок')\n",
    "plt.show()"
   ]
  },
  {
   "cell_type": "markdown",
   "id": "49659f8f",
   "metadata": {},
   "source": [
    "**Вывод:** Наиболее часто встречаемый диапазон продолжительности поездок: 17-21 мин. Реже всего продолжительность поездки составляет менее 5 мин. и более 35 мин."
   ]
  },
  {
   "cell_type": "markdown",
   "id": "4ef51331",
   "metadata": {},
   "source": [
    "#### Шаг 4. Объединение данных"
   ]
  },
  {
   "cell_type": "code",
   "execution_count": 24,
   "id": "6bf288b5",
   "metadata": {},
   "outputs": [
    {
     "data": {
      "text/html": [
       "<div>\n",
       "<style scoped>\n",
       "    .dataframe tbody tr th:only-of-type {\n",
       "        vertical-align: middle;\n",
       "    }\n",
       "\n",
       "    .dataframe tbody tr th {\n",
       "        vertical-align: top;\n",
       "    }\n",
       "\n",
       "    .dataframe thead th {\n",
       "        text-align: right;\n",
       "    }\n",
       "</style>\n",
       "<table border=\"1\" class=\"dataframe\">\n",
       "  <thead>\n",
       "    <tr style=\"text-align: right;\">\n",
       "      <th></th>\n",
       "      <th>user_id</th>\n",
       "      <th>name</th>\n",
       "      <th>age</th>\n",
       "      <th>city</th>\n",
       "      <th>subscription_type</th>\n",
       "      <th>distance</th>\n",
       "      <th>duration</th>\n",
       "      <th>date</th>\n",
       "      <th>month</th>\n",
       "      <th>minute_price</th>\n",
       "      <th>start_ride_price</th>\n",
       "      <th>subscription_fee</th>\n",
       "    </tr>\n",
       "  </thead>\n",
       "  <tbody>\n",
       "    <tr>\n",
       "      <th>0</th>\n",
       "      <td>1</td>\n",
       "      <td>Кира</td>\n",
       "      <td>22</td>\n",
       "      <td>Тюмень</td>\n",
       "      <td>ultra</td>\n",
       "      <td>4409.919140</td>\n",
       "      <td>25.599769</td>\n",
       "      <td>2021-01-01</td>\n",
       "      <td>1</td>\n",
       "      <td>6</td>\n",
       "      <td>0</td>\n",
       "      <td>199</td>\n",
       "    </tr>\n",
       "    <tr>\n",
       "      <th>1</th>\n",
       "      <td>1</td>\n",
       "      <td>Кира</td>\n",
       "      <td>22</td>\n",
       "      <td>Тюмень</td>\n",
       "      <td>ultra</td>\n",
       "      <td>2617.592153</td>\n",
       "      <td>15.816871</td>\n",
       "      <td>2021-01-18</td>\n",
       "      <td>1</td>\n",
       "      <td>6</td>\n",
       "      <td>0</td>\n",
       "      <td>199</td>\n",
       "    </tr>\n",
       "    <tr>\n",
       "      <th>2</th>\n",
       "      <td>1</td>\n",
       "      <td>Кира</td>\n",
       "      <td>22</td>\n",
       "      <td>Тюмень</td>\n",
       "      <td>ultra</td>\n",
       "      <td>754.159807</td>\n",
       "      <td>6.232113</td>\n",
       "      <td>2021-04-20</td>\n",
       "      <td>4</td>\n",
       "      <td>6</td>\n",
       "      <td>0</td>\n",
       "      <td>199</td>\n",
       "    </tr>\n",
       "    <tr>\n",
       "      <th>3</th>\n",
       "      <td>1</td>\n",
       "      <td>Кира</td>\n",
       "      <td>22</td>\n",
       "      <td>Тюмень</td>\n",
       "      <td>ultra</td>\n",
       "      <td>2694.783254</td>\n",
       "      <td>18.511000</td>\n",
       "      <td>2021-08-11</td>\n",
       "      <td>8</td>\n",
       "      <td>6</td>\n",
       "      <td>0</td>\n",
       "      <td>199</td>\n",
       "    </tr>\n",
       "    <tr>\n",
       "      <th>4</th>\n",
       "      <td>1</td>\n",
       "      <td>Кира</td>\n",
       "      <td>22</td>\n",
       "      <td>Тюмень</td>\n",
       "      <td>ultra</td>\n",
       "      <td>4028.687306</td>\n",
       "      <td>26.265803</td>\n",
       "      <td>2021-08-28</td>\n",
       "      <td>8</td>\n",
       "      <td>6</td>\n",
       "      <td>0</td>\n",
       "      <td>199</td>\n",
       "    </tr>\n",
       "    <tr>\n",
       "      <th>5</th>\n",
       "      <td>1</td>\n",
       "      <td>Кира</td>\n",
       "      <td>22</td>\n",
       "      <td>Тюмень</td>\n",
       "      <td>ultra</td>\n",
       "      <td>2770.890808</td>\n",
       "      <td>16.650138</td>\n",
       "      <td>2021-10-09</td>\n",
       "      <td>10</td>\n",
       "      <td>6</td>\n",
       "      <td>0</td>\n",
       "      <td>199</td>\n",
       "    </tr>\n",
       "    <tr>\n",
       "      <th>6</th>\n",
       "      <td>1</td>\n",
       "      <td>Кира</td>\n",
       "      <td>22</td>\n",
       "      <td>Тюмень</td>\n",
       "      <td>ultra</td>\n",
       "      <td>3039.020292</td>\n",
       "      <td>14.927879</td>\n",
       "      <td>2021-10-19</td>\n",
       "      <td>10</td>\n",
       "      <td>6</td>\n",
       "      <td>0</td>\n",
       "      <td>199</td>\n",
       "    </tr>\n",
       "    <tr>\n",
       "      <th>7</th>\n",
       "      <td>1</td>\n",
       "      <td>Кира</td>\n",
       "      <td>22</td>\n",
       "      <td>Тюмень</td>\n",
       "      <td>ultra</td>\n",
       "      <td>2842.118050</td>\n",
       "      <td>23.117468</td>\n",
       "      <td>2021-11-06</td>\n",
       "      <td>11</td>\n",
       "      <td>6</td>\n",
       "      <td>0</td>\n",
       "      <td>199</td>\n",
       "    </tr>\n",
       "    <tr>\n",
       "      <th>8</th>\n",
       "      <td>1</td>\n",
       "      <td>Кира</td>\n",
       "      <td>22</td>\n",
       "      <td>Тюмень</td>\n",
       "      <td>ultra</td>\n",
       "      <td>3412.690668</td>\n",
       "      <td>15.238072</td>\n",
       "      <td>2021-11-14</td>\n",
       "      <td>11</td>\n",
       "      <td>6</td>\n",
       "      <td>0</td>\n",
       "      <td>199</td>\n",
       "    </tr>\n",
       "    <tr>\n",
       "      <th>9</th>\n",
       "      <td>1</td>\n",
       "      <td>Кира</td>\n",
       "      <td>22</td>\n",
       "      <td>Тюмень</td>\n",
       "      <td>ultra</td>\n",
       "      <td>748.690645</td>\n",
       "      <td>15.041884</td>\n",
       "      <td>2021-11-22</td>\n",
       "      <td>11</td>\n",
       "      <td>6</td>\n",
       "      <td>0</td>\n",
       "      <td>199</td>\n",
       "    </tr>\n",
       "    <tr>\n",
       "      <th>10</th>\n",
       "      <td>1</td>\n",
       "      <td>Кира</td>\n",
       "      <td>22</td>\n",
       "      <td>Тюмень</td>\n",
       "      <td>ultra</td>\n",
       "      <td>4031.020195</td>\n",
       "      <td>17.674448</td>\n",
       "      <td>2021-12-14</td>\n",
       "      <td>12</td>\n",
       "      <td>6</td>\n",
       "      <td>0</td>\n",
       "      <td>199</td>\n",
       "    </tr>\n",
       "    <tr>\n",
       "      <th>11</th>\n",
       "      <td>1</td>\n",
       "      <td>Кира</td>\n",
       "      <td>22</td>\n",
       "      <td>Тюмень</td>\n",
       "      <td>ultra</td>\n",
       "      <td>2720.609748</td>\n",
       "      <td>9.529463</td>\n",
       "      <td>2021-12-22</td>\n",
       "      <td>12</td>\n",
       "      <td>6</td>\n",
       "      <td>0</td>\n",
       "      <td>199</td>\n",
       "    </tr>\n",
       "    <tr>\n",
       "      <th>12</th>\n",
       "      <td>2</td>\n",
       "      <td>Станислав</td>\n",
       "      <td>31</td>\n",
       "      <td>Омск</td>\n",
       "      <td>ultra</td>\n",
       "      <td>3105.086678</td>\n",
       "      <td>24.307514</td>\n",
       "      <td>2021-03-15</td>\n",
       "      <td>3</td>\n",
       "      <td>6</td>\n",
       "      <td>0</td>\n",
       "      <td>199</td>\n",
       "    </tr>\n",
       "    <tr>\n",
       "      <th>13</th>\n",
       "      <td>2</td>\n",
       "      <td>Станислав</td>\n",
       "      <td>31</td>\n",
       "      <td>Омск</td>\n",
       "      <td>ultra</td>\n",
       "      <td>3053.519401</td>\n",
       "      <td>11.543256</td>\n",
       "      <td>2021-03-18</td>\n",
       "      <td>3</td>\n",
       "      <td>6</td>\n",
       "      <td>0</td>\n",
       "      <td>199</td>\n",
       "    </tr>\n",
       "    <tr>\n",
       "      <th>14</th>\n",
       "      <td>2</td>\n",
       "      <td>Станислав</td>\n",
       "      <td>31</td>\n",
       "      <td>Омск</td>\n",
       "      <td>ultra</td>\n",
       "      <td>4029.116927</td>\n",
       "      <td>25.109188</td>\n",
       "      <td>2021-03-23</td>\n",
       "      <td>3</td>\n",
       "      <td>6</td>\n",
       "      <td>0</td>\n",
       "      <td>199</td>\n",
       "    </tr>\n",
       "  </tbody>\n",
       "</table>\n",
       "</div>"
      ],
      "text/plain": [
       "    user_id       name  age    city subscription_type     distance   duration  \\\n",
       "0         1       Кира   22  Тюмень             ultra  4409.919140  25.599769   \n",
       "1         1       Кира   22  Тюмень             ultra  2617.592153  15.816871   \n",
       "2         1       Кира   22  Тюмень             ultra   754.159807   6.232113   \n",
       "3         1       Кира   22  Тюмень             ultra  2694.783254  18.511000   \n",
       "4         1       Кира   22  Тюмень             ultra  4028.687306  26.265803   \n",
       "5         1       Кира   22  Тюмень             ultra  2770.890808  16.650138   \n",
       "6         1       Кира   22  Тюмень             ultra  3039.020292  14.927879   \n",
       "7         1       Кира   22  Тюмень             ultra  2842.118050  23.117468   \n",
       "8         1       Кира   22  Тюмень             ultra  3412.690668  15.238072   \n",
       "9         1       Кира   22  Тюмень             ultra   748.690645  15.041884   \n",
       "10        1       Кира   22  Тюмень             ultra  4031.020195  17.674448   \n",
       "11        1       Кира   22  Тюмень             ultra  2720.609748   9.529463   \n",
       "12        2  Станислав   31    Омск             ultra  3105.086678  24.307514   \n",
       "13        2  Станислав   31    Омск             ultra  3053.519401  11.543256   \n",
       "14        2  Станислав   31    Омск             ultra  4029.116927  25.109188   \n",
       "\n",
       "         date  month  minute_price  start_ride_price  subscription_fee  \n",
       "0  2021-01-01      1             6                 0               199  \n",
       "1  2021-01-18      1             6                 0               199  \n",
       "2  2021-04-20      4             6                 0               199  \n",
       "3  2021-08-11      8             6                 0               199  \n",
       "4  2021-08-28      8             6                 0               199  \n",
       "5  2021-10-09     10             6                 0               199  \n",
       "6  2021-10-19     10             6                 0               199  \n",
       "7  2021-11-06     11             6                 0               199  \n",
       "8  2021-11-14     11             6                 0               199  \n",
       "9  2021-11-22     11             6                 0               199  \n",
       "10 2021-12-14     12             6                 0               199  \n",
       "11 2021-12-22     12             6                 0               199  \n",
       "12 2021-03-15      3             6                 0               199  \n",
       "13 2021-03-18      3             6                 0               199  \n",
       "14 2021-03-23      3             6                 0               199  "
      ]
     },
     "execution_count": 24,
     "metadata": {},
     "output_type": "execute_result"
    }
   ],
   "source": [
    "#Объединим данные о пользователях, поездках и подписках в один датафрейм. Для этого воспользуемся методом merge().\n",
    "data_users_rides = data_users.merge(data_rides, how='outer')\n",
    "data = data_users_rides.merge(data_subscriptions, how='outer')\n",
    "data.head(15)"
   ]
  },
  {
   "cell_type": "code",
   "execution_count": 25,
   "id": "4f8e229d",
   "metadata": {},
   "outputs": [
    {
     "name": "stdout",
     "output_type": "stream",
     "text": [
      "Размерность исходного датасета: (18068, 5)\n",
      "Размерность объединенного датасета: (18068, 12)\n",
      "Количество пропусков в столбцах объединенного датасета:\n",
      "user_id              0\n",
      "name                 0\n",
      "age                  0\n",
      "city                 0\n",
      "subscription_type    0\n",
      "distance             0\n",
      "duration             0\n",
      "date                 0\n",
      "month                0\n",
      "minute_price         0\n",
      "start_ride_price     0\n",
      "subscription_fee     0\n",
      "dtype: int64\n"
     ]
    }
   ],
   "source": [
    "# Проверим корректность объединения таблиц, для этого сравним размерность исходного датасета с объединенным, а также проверим на пропуски объединенный датасет\n",
    "print('Размерность исходного датасета:', data_rides.shape)\n",
    "print('Размерность объединенного датасета:', data.shape)\n",
    "print('Количество пропусков в столбцах объединенного датасета:')\n",
    "print(data.isna().sum())"
   ]
  },
  {
   "cell_type": "code",
   "execution_count": 26,
   "id": "e64298a6",
   "metadata": {
    "scrolled": true
   },
   "outputs": [
    {
     "data": {
      "text/html": [
       "<div>\n",
       "<style scoped>\n",
       "    .dataframe tbody tr th:only-of-type {\n",
       "        vertical-align: middle;\n",
       "    }\n",
       "\n",
       "    .dataframe tbody tr th {\n",
       "        vertical-align: top;\n",
       "    }\n",
       "\n",
       "    .dataframe thead th {\n",
       "        text-align: right;\n",
       "    }\n",
       "</style>\n",
       "<table border=\"1\" class=\"dataframe\">\n",
       "  <thead>\n",
       "    <tr style=\"text-align: right;\">\n",
       "      <th></th>\n",
       "      <th>user_id</th>\n",
       "      <th>name</th>\n",
       "      <th>age</th>\n",
       "      <th>city</th>\n",
       "      <th>subscription_type</th>\n",
       "      <th>distance</th>\n",
       "      <th>duration</th>\n",
       "      <th>date</th>\n",
       "      <th>month</th>\n",
       "      <th>minute_price</th>\n",
       "      <th>start_ride_price</th>\n",
       "      <th>subscription_fee</th>\n",
       "    </tr>\n",
       "  </thead>\n",
       "  <tbody>\n",
       "    <tr>\n",
       "      <th>6500</th>\n",
       "      <td>700</td>\n",
       "      <td>Айдар</td>\n",
       "      <td>22</td>\n",
       "      <td>Омск</td>\n",
       "      <td>free</td>\n",
       "      <td>2515.690719</td>\n",
       "      <td>14.944286</td>\n",
       "      <td>2021-01-02</td>\n",
       "      <td>1</td>\n",
       "      <td>8</td>\n",
       "      <td>50</td>\n",
       "      <td>0</td>\n",
       "    </tr>\n",
       "    <tr>\n",
       "      <th>6501</th>\n",
       "      <td>700</td>\n",
       "      <td>Айдар</td>\n",
       "      <td>22</td>\n",
       "      <td>Омск</td>\n",
       "      <td>free</td>\n",
       "      <td>846.932642</td>\n",
       "      <td>16.234663</td>\n",
       "      <td>2021-02-01</td>\n",
       "      <td>2</td>\n",
       "      <td>8</td>\n",
       "      <td>50</td>\n",
       "      <td>0</td>\n",
       "    </tr>\n",
       "    <tr>\n",
       "      <th>6502</th>\n",
       "      <td>700</td>\n",
       "      <td>Айдар</td>\n",
       "      <td>22</td>\n",
       "      <td>Омск</td>\n",
       "      <td>free</td>\n",
       "      <td>4004.434142</td>\n",
       "      <td>20.016628</td>\n",
       "      <td>2021-02-04</td>\n",
       "      <td>2</td>\n",
       "      <td>8</td>\n",
       "      <td>50</td>\n",
       "      <td>0</td>\n",
       "    </tr>\n",
       "    <tr>\n",
       "      <th>6503</th>\n",
       "      <td>700</td>\n",
       "      <td>Айдар</td>\n",
       "      <td>22</td>\n",
       "      <td>Омск</td>\n",
       "      <td>free</td>\n",
       "      <td>1205.911290</td>\n",
       "      <td>9.782872</td>\n",
       "      <td>2021-02-10</td>\n",
       "      <td>2</td>\n",
       "      <td>8</td>\n",
       "      <td>50</td>\n",
       "      <td>0</td>\n",
       "    </tr>\n",
       "    <tr>\n",
       "      <th>6504</th>\n",
       "      <td>700</td>\n",
       "      <td>Айдар</td>\n",
       "      <td>22</td>\n",
       "      <td>Омск</td>\n",
       "      <td>free</td>\n",
       "      <td>3047.379435</td>\n",
       "      <td>17.427673</td>\n",
       "      <td>2021-02-14</td>\n",
       "      <td>2</td>\n",
       "      <td>8</td>\n",
       "      <td>50</td>\n",
       "      <td>0</td>\n",
       "    </tr>\n",
       "  </tbody>\n",
       "</table>\n",
       "</div>"
      ],
      "text/plain": [
       "      user_id   name  age  city subscription_type     distance   duration  \\\n",
       "6500      700  Айдар   22  Омск              free  2515.690719  14.944286   \n",
       "6501      700  Айдар   22  Омск              free   846.932642  16.234663   \n",
       "6502      700  Айдар   22  Омск              free  4004.434142  20.016628   \n",
       "6503      700  Айдар   22  Омск              free  1205.911290   9.782872   \n",
       "6504      700  Айдар   22  Омск              free  3047.379435  17.427673   \n",
       "\n",
       "           date  month  minute_price  start_ride_price  subscription_fee  \n",
       "6500 2021-01-02      1             8                50                 0  \n",
       "6501 2021-02-01      2             8                50                 0  \n",
       "6502 2021-02-04      2             8                50                 0  \n",
       "6503 2021-02-10      2             8                50                 0  \n",
       "6504 2021-02-14      2             8                50                 0  "
      ]
     },
     "execution_count": 26,
     "metadata": {},
     "output_type": "execute_result"
    }
   ],
   "source": [
    "#Создим датафрейм c данными о пользователях без подписки\n",
    "data_free = data[data['subscription_type'] == 'free']\n",
    "data_free.head(5)"
   ]
  },
  {
   "cell_type": "code",
   "execution_count": 27,
   "id": "cadc247d",
   "metadata": {},
   "outputs": [
    {
     "name": "stdout",
     "output_type": "stream",
     "text": [
      "<class 'pandas.core.frame.DataFrame'>\n",
      "Int64Index: 11568 entries, 6500 to 18067\n",
      "Data columns (total 12 columns):\n",
      " #   Column             Non-Null Count  Dtype         \n",
      "---  ------             --------------  -----         \n",
      " 0   user_id            11568 non-null  int64         \n",
      " 1   name               11568 non-null  object        \n",
      " 2   age                11568 non-null  int64         \n",
      " 3   city               11568 non-null  object        \n",
      " 4   subscription_type  11568 non-null  object        \n",
      " 5   distance           11568 non-null  float64       \n",
      " 6   duration           11568 non-null  float64       \n",
      " 7   date               11568 non-null  datetime64[ns]\n",
      " 8   month              11568 non-null  int64         \n",
      " 9   minute_price       11568 non-null  int64         \n",
      " 10  start_ride_price   11568 non-null  int64         \n",
      " 11  subscription_fee   11568 non-null  int64         \n",
      "dtypes: datetime64[ns](1), float64(2), int64(6), object(3)\n",
      "memory usage: 1.1+ MB\n"
     ]
    }
   ],
   "source": [
    "data_free.info()"
   ]
  },
  {
   "cell_type": "code",
   "execution_count": 28,
   "id": "6162226c",
   "metadata": {},
   "outputs": [
    {
     "data": {
      "text/html": [
       "<div>\n",
       "<style scoped>\n",
       "    .dataframe tbody tr th:only-of-type {\n",
       "        vertical-align: middle;\n",
       "    }\n",
       "\n",
       "    .dataframe tbody tr th {\n",
       "        vertical-align: top;\n",
       "    }\n",
       "\n",
       "    .dataframe thead th {\n",
       "        text-align: right;\n",
       "    }\n",
       "</style>\n",
       "<table border=\"1\" class=\"dataframe\">\n",
       "  <thead>\n",
       "    <tr style=\"text-align: right;\">\n",
       "      <th></th>\n",
       "      <th>user_id</th>\n",
       "      <th>name</th>\n",
       "      <th>age</th>\n",
       "      <th>city</th>\n",
       "      <th>subscription_type</th>\n",
       "      <th>distance</th>\n",
       "      <th>duration</th>\n",
       "      <th>date</th>\n",
       "      <th>month</th>\n",
       "      <th>minute_price</th>\n",
       "      <th>start_ride_price</th>\n",
       "      <th>subscription_fee</th>\n",
       "    </tr>\n",
       "  </thead>\n",
       "  <tbody>\n",
       "    <tr>\n",
       "      <th>6495</th>\n",
       "      <td>699</td>\n",
       "      <td>Оксана</td>\n",
       "      <td>22</td>\n",
       "      <td>Москва</td>\n",
       "      <td>ultra</td>\n",
       "      <td>3973.046497</td>\n",
       "      <td>24.671163</td>\n",
       "      <td>2021-08-29</td>\n",
       "      <td>8</td>\n",
       "      <td>6</td>\n",
       "      <td>0</td>\n",
       "      <td>199</td>\n",
       "    </tr>\n",
       "    <tr>\n",
       "      <th>6496</th>\n",
       "      <td>699</td>\n",
       "      <td>Оксана</td>\n",
       "      <td>22</td>\n",
       "      <td>Москва</td>\n",
       "      <td>ultra</td>\n",
       "      <td>3288.702563</td>\n",
       "      <td>15.892886</td>\n",
       "      <td>2021-09-12</td>\n",
       "      <td>9</td>\n",
       "      <td>6</td>\n",
       "      <td>0</td>\n",
       "      <td>199</td>\n",
       "    </tr>\n",
       "    <tr>\n",
       "      <th>6497</th>\n",
       "      <td>699</td>\n",
       "      <td>Оксана</td>\n",
       "      <td>22</td>\n",
       "      <td>Москва</td>\n",
       "      <td>ultra</td>\n",
       "      <td>3076.159348</td>\n",
       "      <td>14.389525</td>\n",
       "      <td>2021-09-26</td>\n",
       "      <td>9</td>\n",
       "      <td>6</td>\n",
       "      <td>0</td>\n",
       "      <td>199</td>\n",
       "    </tr>\n",
       "    <tr>\n",
       "      <th>6498</th>\n",
       "      <td>699</td>\n",
       "      <td>Оксана</td>\n",
       "      <td>22</td>\n",
       "      <td>Москва</td>\n",
       "      <td>ultra</td>\n",
       "      <td>4707.845501</td>\n",
       "      <td>15.839579</td>\n",
       "      <td>2021-10-17</td>\n",
       "      <td>10</td>\n",
       "      <td>6</td>\n",
       "      <td>0</td>\n",
       "      <td>199</td>\n",
       "    </tr>\n",
       "    <tr>\n",
       "      <th>6499</th>\n",
       "      <td>699</td>\n",
       "      <td>Оксана</td>\n",
       "      <td>22</td>\n",
       "      <td>Москва</td>\n",
       "      <td>ultra</td>\n",
       "      <td>3202.890770</td>\n",
       "      <td>25.217345</td>\n",
       "      <td>2021-12-03</td>\n",
       "      <td>12</td>\n",
       "      <td>6</td>\n",
       "      <td>0</td>\n",
       "      <td>199</td>\n",
       "    </tr>\n",
       "  </tbody>\n",
       "</table>\n",
       "</div>"
      ],
      "text/plain": [
       "      user_id    name  age    city subscription_type     distance   duration  \\\n",
       "6495      699  Оксана   22  Москва             ultra  3973.046497  24.671163   \n",
       "6496      699  Оксана   22  Москва             ultra  3288.702563  15.892886   \n",
       "6497      699  Оксана   22  Москва             ultra  3076.159348  14.389525   \n",
       "6498      699  Оксана   22  Москва             ultra  4707.845501  15.839579   \n",
       "6499      699  Оксана   22  Москва             ultra  3202.890770  25.217345   \n",
       "\n",
       "           date  month  minute_price  start_ride_price  subscription_fee  \n",
       "6495 2021-08-29      8             6                 0               199  \n",
       "6496 2021-09-12      9             6                 0               199  \n",
       "6497 2021-09-26      9             6                 0               199  \n",
       "6498 2021-10-17     10             6                 0               199  \n",
       "6499 2021-12-03     12             6                 0               199  "
      ]
     },
     "execution_count": 28,
     "metadata": {},
     "output_type": "execute_result"
    }
   ],
   "source": [
    "#Создим датафрейм c данными о пользователях с подпиской\n",
    "data_ultra = data[data['subscription_type'] == 'ultra']\n",
    "data_ultra.tail(5)"
   ]
  },
  {
   "cell_type": "code",
   "execution_count": 29,
   "id": "24f96436",
   "metadata": {},
   "outputs": [
    {
     "name": "stdout",
     "output_type": "stream",
     "text": [
      "<class 'pandas.core.frame.DataFrame'>\n",
      "Int64Index: 6500 entries, 0 to 6499\n",
      "Data columns (total 12 columns):\n",
      " #   Column             Non-Null Count  Dtype         \n",
      "---  ------             --------------  -----         \n",
      " 0   user_id            6500 non-null   int64         \n",
      " 1   name               6500 non-null   object        \n",
      " 2   age                6500 non-null   int64         \n",
      " 3   city               6500 non-null   object        \n",
      " 4   subscription_type  6500 non-null   object        \n",
      " 5   distance           6500 non-null   float64       \n",
      " 6   duration           6500 non-null   float64       \n",
      " 7   date               6500 non-null   datetime64[ns]\n",
      " 8   month              6500 non-null   int64         \n",
      " 9   minute_price       6500 non-null   int64         \n",
      " 10  start_ride_price   6500 non-null   int64         \n",
      " 11  subscription_fee   6500 non-null   int64         \n",
      "dtypes: datetime64[ns](1), float64(2), int64(6), object(3)\n",
      "memory usage: 660.2+ KB\n"
     ]
    }
   ],
   "source": [
    "data_ultra.info()"
   ]
  },
  {
   "cell_type": "code",
   "execution_count": 30,
   "id": "008dc2c3",
   "metadata": {},
   "outputs": [
    {
     "data": {
      "image/png": "[encoded data removed]",
      "text/plain": [
       "<Figure size 1152x432 with 1 Axes>"
      ]
     },
     "metadata": {
      "needs_background": "light"
     },
     "output_type": "display_data"
    }
   ],
   "source": [
    "# Визуализируем информацию о расстоянии поездок для пользователей без подписки\n",
    "data_free['distance'].plot(kind='hist',  bins = 30, grid=True, colormap=\"turbo\", figsize=(16,6));\n",
    "plt.title('Расстояние поездок пользователей без подписки')\n",
    "plt.xlabel('Расстояние поездок в метрах')\n",
    "plt.ylabel('Количество поездок')\n",
    "plt.show()"
   ]
  },
  {
   "cell_type": "code",
   "execution_count": 31,
   "id": "76d1cfc2",
   "metadata": {},
   "outputs": [
    {
     "data": {
      "image/png": "[encoded data removed]",
      "text/plain": [
       "<Figure size 1152x432 with 1 Axes>"
      ]
     },
     "metadata": {
      "needs_background": "light"
     },
     "output_type": "display_data"
    }
   ],
   "source": [
    "# Визуализируем информацию о времени поездок для пользователей без подписки\n",
    "data_free['duration'].plot(kind='hist', bins = 25, grid=True, colormap=\"turbo\", figsize=(16,6));\n",
    "plt.title('Продолжительность поездок пользователей без подписки')\n",
    "plt.xlabel('Продолжительность поездок в минутах')\n",
    "plt.ylabel('Количество поездок')\n",
    "plt.show()"
   ]
  },
  {
   "cell_type": "code",
   "execution_count": 32,
   "id": "c2f2c931",
   "metadata": {},
   "outputs": [
    {
     "data": {
      "image/png": "[encoded data removed]",
      "text/plain": [
       "<Figure size 1152x432 with 1 Axes>"
      ]
     },
     "metadata": {
      "needs_background": "light"
     },
     "output_type": "display_data"
    }
   ],
   "source": [
    "# Визуализируем информацию о расстоянии поездок для пользователей с подпиской\n",
    "data_ultra['distance'].plot(kind='hist',  bins = 30, grid=True, color=\"green\", figsize=(16,6));\n",
    "plt.title('Расстояние поездок пользователей с подпиской')\n",
    "plt.xlabel('Расстояние поездок в метрах')\n",
    "plt.ylabel('Количество поездок')\n",
    "plt.show()"
   ]
  },
  {
   "cell_type": "code",
   "execution_count": 33,
   "id": "134f161e",
   "metadata": {},
   "outputs": [
    {
     "data": {
      "image/png": "[encoded data removed]",
      "text/plain": [
       "<Figure size 1152x432 with 1 Axes>"
      ]
     },
     "metadata": {
      "needs_background": "light"
     },
     "output_type": "display_data"
    }
   ],
   "source": [
    "# # Визуализируем информацию о времени поездок для пользователей с подпиской\n",
    "data_ultra['duration'].plot(kind='hist', bins = 25, grid=True, color=\"green\", figsize=(16,6));\n",
    "plt.title('Продолжительность поездок пользователей с подпиской')\n",
    "plt.xlabel('Продолжительность поездок в минутах')\n",
    "plt.ylabel('Количество поездок')\n",
    "plt.show()"
   ]
  },
  {
   "cell_type": "markdown",
   "id": "f247d5cf",
   "metadata": {},
   "source": [
    "**Вывод:** по получившимся датасетам c данными о пользователях без подписки и с подпиской, можно сказать:\n",
    "- Пользователи без подписки преобладают над пользователями с подпиской;\n",
    "- Наиболее частое количество поездок пользователей без подписки наблюдается с диапазоном расстояния поездки: 2.4-2.8 км. Также наблюдается активное количество поездок с расстоянием поездки до 1 км. Начиная с 6 км активность поездок минимальна.\n",
    "- Наиболее частое количество поездок пользователей без подписки наблюдается с диапазоном продолжительности поездки: 17-18 минут. Меньше всего количество пользователей без подписки, совершавших поездку более 30 минут и менее 5 минут.\n",
    "- Наиболее частое количество поездок пользователей с подпиской наблюдается с диапазоном расстояния поездки: 3.0-3.2 км. Также наблюдается наименее активное количество поездок с диапазонами расстояния поездки 1.8-2.0 км и более 5 км.\n",
    "- Наиболее частое количество поездок пользователей с подпиской наблюдается с диапазоном продолжительности поездки: 17-18 минут. Меньше всего количество пользователей с подпиской, совершавших поездку более 35 минут и менее 5 минут.\n",
    "\n",
    "В общем, можно сделать вывод, что пользователи с бесплатной подпиской больше проезжают дальные расстояния, чем пользователи с подпиской, а также пользователи без подписки больше тратят времени на поездки."
   ]
  },
  {
   "cell_type": "markdown",
   "id": "402d620f",
   "metadata": {},
   "source": [
    "#### Шаг 5. Подсчёт выручки"
   ]
  },
  {
   "cell_type": "code",
   "execution_count": 34,
   "id": "53049e0a",
   "metadata": {},
   "outputs": [],
   "source": [
    "# Найдем суммарное расстояние, количество поездок и суммарное время для каждого пользователя за каждый месяц\n",
    "data_total = pd.pivot_table(data, index = ['user_id', 'month'], values = ['distance', 'duration', 'name', 'subscription_type'], aggfunc = {'distance': sum, 'duration': sum, 'name': len, 'subscription_type': max})\n",
    "data_total.rename (columns = {'distance': 'sum_distance', 'duration': 'sum_duration', 'name': 'number_trips'}, inplace = True)"
   ]
  },
  {
   "cell_type": "code",
   "execution_count": 35,
   "id": "8eb6037a",
   "metadata": {},
   "outputs": [],
   "source": [
    "data_total['sum_duration'] = np.ceil(data_total['sum_duration'])"
   ]
  },
  {
   "cell_type": "code",
   "execution_count": 36,
   "id": "b995647e",
   "metadata": {},
   "outputs": [
    {
     "data": {
      "text/html": [
       "<div>\n",
       "<style scoped>\n",
       "    .dataframe tbody tr th:only-of-type {\n",
       "        vertical-align: middle;\n",
       "    }\n",
       "\n",
       "    .dataframe tbody tr th {\n",
       "        vertical-align: top;\n",
       "    }\n",
       "\n",
       "    .dataframe thead th {\n",
       "        text-align: right;\n",
       "    }\n",
       "</style>\n",
       "<table border=\"1\" class=\"dataframe\">\n",
       "  <thead>\n",
       "    <tr style=\"text-align: right;\">\n",
       "      <th></th>\n",
       "      <th></th>\n",
       "      <th>sum_distance</th>\n",
       "      <th>sum_duration</th>\n",
       "      <th>number_trips</th>\n",
       "      <th>subscription_type</th>\n",
       "    </tr>\n",
       "    <tr>\n",
       "      <th>user_id</th>\n",
       "      <th>month</th>\n",
       "      <th></th>\n",
       "      <th></th>\n",
       "      <th></th>\n",
       "      <th></th>\n",
       "    </tr>\n",
       "  </thead>\n",
       "  <tbody>\n",
       "    <tr>\n",
       "      <th rowspan=\"6\" valign=\"top\">1</th>\n",
       "      <th>1</th>\n",
       "      <td>7027.511294</td>\n",
       "      <td>42.0</td>\n",
       "      <td>2</td>\n",
       "      <td>ultra</td>\n",
       "    </tr>\n",
       "    <tr>\n",
       "      <th>4</th>\n",
       "      <td>754.159807</td>\n",
       "      <td>7.0</td>\n",
       "      <td>1</td>\n",
       "      <td>ultra</td>\n",
       "    </tr>\n",
       "    <tr>\n",
       "      <th>8</th>\n",
       "      <td>6723.470560</td>\n",
       "      <td>45.0</td>\n",
       "      <td>2</td>\n",
       "      <td>ultra</td>\n",
       "    </tr>\n",
       "    <tr>\n",
       "      <th>10</th>\n",
       "      <td>5809.911100</td>\n",
       "      <td>32.0</td>\n",
       "      <td>2</td>\n",
       "      <td>ultra</td>\n",
       "    </tr>\n",
       "    <tr>\n",
       "      <th>11</th>\n",
       "      <td>7003.499363</td>\n",
       "      <td>54.0</td>\n",
       "      <td>3</td>\n",
       "      <td>ultra</td>\n",
       "    </tr>\n",
       "    <tr>\n",
       "      <th>12</th>\n",
       "      <td>6751.629942</td>\n",
       "      <td>28.0</td>\n",
       "      <td>2</td>\n",
       "      <td>ultra</td>\n",
       "    </tr>\n",
       "    <tr>\n",
       "      <th rowspan=\"4\" valign=\"top\">2</th>\n",
       "      <th>3</th>\n",
       "      <td>10187.723006</td>\n",
       "      <td>61.0</td>\n",
       "      <td>3</td>\n",
       "      <td>ultra</td>\n",
       "    </tr>\n",
       "    <tr>\n",
       "      <th>4</th>\n",
       "      <td>6164.381824</td>\n",
       "      <td>40.0</td>\n",
       "      <td>2</td>\n",
       "      <td>ultra</td>\n",
       "    </tr>\n",
       "    <tr>\n",
       "      <th>6</th>\n",
       "      <td>3255.338202</td>\n",
       "      <td>14.0</td>\n",
       "      <td>1</td>\n",
       "      <td>ultra</td>\n",
       "    </tr>\n",
       "    <tr>\n",
       "      <th>7</th>\n",
       "      <td>6780.722964</td>\n",
       "      <td>47.0</td>\n",
       "      <td>2</td>\n",
       "      <td>ultra</td>\n",
       "    </tr>\n",
       "  </tbody>\n",
       "</table>\n",
       "</div>"
      ],
      "text/plain": [
       "               sum_distance  sum_duration  number_trips subscription_type\n",
       "user_id month                                                            \n",
       "1       1       7027.511294          42.0             2             ultra\n",
       "        4        754.159807           7.0             1             ultra\n",
       "        8       6723.470560          45.0             2             ultra\n",
       "        10      5809.911100          32.0             2             ultra\n",
       "        11      7003.499363          54.0             3             ultra\n",
       "        12      6751.629942          28.0             2             ultra\n",
       "2       3      10187.723006          61.0             3             ultra\n",
       "        4       6164.381824          40.0             2             ultra\n",
       "        6       3255.338202          14.0             1             ultra\n",
       "        7       6780.722964          47.0             2             ultra"
      ]
     },
     "execution_count": 36,
     "metadata": {},
     "output_type": "execute_result"
    }
   ],
   "source": [
    "data_total.head(10)"
   ]
  },
  {
   "cell_type": "code",
   "execution_count": 37,
   "id": "dccf80b3",
   "metadata": {},
   "outputs": [],
   "source": [
    "# Добавим столбец с помесячной выручкой, которую принёс каждый пользователь\n",
    "# Помесячная выручка считается по формуле: стоимость старта поездки ×  количество поездок + стоимость одной минуты поездки × общая продолжительность всех поездок в минутах + стоимость подписки.\n",
    "\n",
    "def revenue(row):\n",
    "    if row['subscription_type'] == 'ultra':\n",
    "        return row['sum_duration']*6+199\n",
    "    elif row['subscription_type'] == 'free':\n",
    "        return row['sum_duration']*8+50*row['number_trips']"
   ]
  },
  {
   "cell_type": "code",
   "execution_count": 38,
   "id": "b5a7de9e",
   "metadata": {},
   "outputs": [],
   "source": [
    "data_total['revenue'] = data_total.apply(revenue, axis = 1)"
   ]
  },
  {
   "cell_type": "code",
   "execution_count": 39,
   "id": "4d6eeeeb",
   "metadata": {},
   "outputs": [
    {
     "data": {
      "text/html": [
       "<div>\n",
       "<style scoped>\n",
       "    .dataframe tbody tr th:only-of-type {\n",
       "        vertical-align: middle;\n",
       "    }\n",
       "\n",
       "    .dataframe tbody tr th {\n",
       "        vertical-align: top;\n",
       "    }\n",
       "\n",
       "    .dataframe thead th {\n",
       "        text-align: right;\n",
       "    }\n",
       "</style>\n",
       "<table border=\"1\" class=\"dataframe\">\n",
       "  <thead>\n",
       "    <tr style=\"text-align: right;\">\n",
       "      <th></th>\n",
       "      <th></th>\n",
       "      <th>sum_distance</th>\n",
       "      <th>sum_duration</th>\n",
       "      <th>number_trips</th>\n",
       "      <th>subscription_type</th>\n",
       "      <th>revenue</th>\n",
       "    </tr>\n",
       "    <tr>\n",
       "      <th>user_id</th>\n",
       "      <th>month</th>\n",
       "      <th></th>\n",
       "      <th></th>\n",
       "      <th></th>\n",
       "      <th></th>\n",
       "      <th></th>\n",
       "    </tr>\n",
       "  </thead>\n",
       "  <tbody>\n",
       "    <tr>\n",
       "      <th rowspan=\"6\" valign=\"top\">1</th>\n",
       "      <th>1</th>\n",
       "      <td>7027.511294</td>\n",
       "      <td>42.0</td>\n",
       "      <td>2</td>\n",
       "      <td>ultra</td>\n",
       "      <td>451.0</td>\n",
       "    </tr>\n",
       "    <tr>\n",
       "      <th>4</th>\n",
       "      <td>754.159807</td>\n",
       "      <td>7.0</td>\n",
       "      <td>1</td>\n",
       "      <td>ultra</td>\n",
       "      <td>241.0</td>\n",
       "    </tr>\n",
       "    <tr>\n",
       "      <th>8</th>\n",
       "      <td>6723.470560</td>\n",
       "      <td>45.0</td>\n",
       "      <td>2</td>\n",
       "      <td>ultra</td>\n",
       "      <td>469.0</td>\n",
       "    </tr>\n",
       "    <tr>\n",
       "      <th>10</th>\n",
       "      <td>5809.911100</td>\n",
       "      <td>32.0</td>\n",
       "      <td>2</td>\n",
       "      <td>ultra</td>\n",
       "      <td>391.0</td>\n",
       "    </tr>\n",
       "    <tr>\n",
       "      <th>11</th>\n",
       "      <td>7003.499363</td>\n",
       "      <td>54.0</td>\n",
       "      <td>3</td>\n",
       "      <td>ultra</td>\n",
       "      <td>523.0</td>\n",
       "    </tr>\n",
       "    <tr>\n",
       "      <th>12</th>\n",
       "      <td>6751.629942</td>\n",
       "      <td>28.0</td>\n",
       "      <td>2</td>\n",
       "      <td>ultra</td>\n",
       "      <td>367.0</td>\n",
       "    </tr>\n",
       "    <tr>\n",
       "      <th rowspan=\"4\" valign=\"top\">2</th>\n",
       "      <th>3</th>\n",
       "      <td>10187.723006</td>\n",
       "      <td>61.0</td>\n",
       "      <td>3</td>\n",
       "      <td>ultra</td>\n",
       "      <td>565.0</td>\n",
       "    </tr>\n",
       "    <tr>\n",
       "      <th>4</th>\n",
       "      <td>6164.381824</td>\n",
       "      <td>40.0</td>\n",
       "      <td>2</td>\n",
       "      <td>ultra</td>\n",
       "      <td>439.0</td>\n",
       "    </tr>\n",
       "    <tr>\n",
       "      <th>6</th>\n",
       "      <td>3255.338202</td>\n",
       "      <td>14.0</td>\n",
       "      <td>1</td>\n",
       "      <td>ultra</td>\n",
       "      <td>283.0</td>\n",
       "    </tr>\n",
       "    <tr>\n",
       "      <th>7</th>\n",
       "      <td>6780.722964</td>\n",
       "      <td>47.0</td>\n",
       "      <td>2</td>\n",
       "      <td>ultra</td>\n",
       "      <td>481.0</td>\n",
       "    </tr>\n",
       "  </tbody>\n",
       "</table>\n",
       "</div>"
      ],
      "text/plain": [
       "               sum_distance  sum_duration  number_trips subscription_type  \\\n",
       "user_id month                                                               \n",
       "1       1       7027.511294          42.0             2             ultra   \n",
       "        4        754.159807           7.0             1             ultra   \n",
       "        8       6723.470560          45.0             2             ultra   \n",
       "        10      5809.911100          32.0             2             ultra   \n",
       "        11      7003.499363          54.0             3             ultra   \n",
       "        12      6751.629942          28.0             2             ultra   \n",
       "2       3      10187.723006          61.0             3             ultra   \n",
       "        4       6164.381824          40.0             2             ultra   \n",
       "        6       3255.338202          14.0             1             ultra   \n",
       "        7       6780.722964          47.0             2             ultra   \n",
       "\n",
       "               revenue  \n",
       "user_id month           \n",
       "1       1        451.0  \n",
       "        4        241.0  \n",
       "        8        469.0  \n",
       "        10       391.0  \n",
       "        11       523.0  \n",
       "        12       367.0  \n",
       "2       3        565.0  \n",
       "        4        439.0  \n",
       "        6        283.0  \n",
       "        7        481.0  "
      ]
     },
     "execution_count": 39,
     "metadata": {},
     "output_type": "execute_result"
    }
   ],
   "source": [
    "data_total.head(10)"
   ]
  },
  {
   "cell_type": "code",
   "execution_count": 40,
   "id": "a4822d89",
   "metadata": {},
   "outputs": [
    {
     "data": {
      "text/html": [
       "<div>\n",
       "<style scoped>\n",
       "    .dataframe tbody tr th:only-of-type {\n",
       "        vertical-align: middle;\n",
       "    }\n",
       "\n",
       "    .dataframe tbody tr th {\n",
       "        vertical-align: top;\n",
       "    }\n",
       "\n",
       "    .dataframe thead th {\n",
       "        text-align: right;\n",
       "    }\n",
       "</style>\n",
       "<table border=\"1\" class=\"dataframe\">\n",
       "  <thead>\n",
       "    <tr style=\"text-align: right;\">\n",
       "      <th></th>\n",
       "      <th></th>\n",
       "      <th>sum_distance</th>\n",
       "      <th>sum_duration</th>\n",
       "      <th>number_trips</th>\n",
       "      <th>subscription_type</th>\n",
       "      <th>revenue</th>\n",
       "    </tr>\n",
       "    <tr>\n",
       "      <th>user_id</th>\n",
       "      <th>month</th>\n",
       "      <th></th>\n",
       "      <th></th>\n",
       "      <th></th>\n",
       "      <th></th>\n",
       "      <th></th>\n",
       "    </tr>\n",
       "  </thead>\n",
       "  <tbody>\n",
       "    <tr>\n",
       "      <th rowspan=\"2\" valign=\"top\">1533</th>\n",
       "      <th>8</th>\n",
       "      <td>4581.943632</td>\n",
       "      <td>22.0</td>\n",
       "      <td>1</td>\n",
       "      <td>free</td>\n",
       "      <td>226.0</td>\n",
       "    </tr>\n",
       "    <tr>\n",
       "      <th>11</th>\n",
       "      <td>3414.448028</td>\n",
       "      <td>26.0</td>\n",
       "      <td>1</td>\n",
       "      <td>free</td>\n",
       "      <td>258.0</td>\n",
       "    </tr>\n",
       "    <tr>\n",
       "      <th rowspan=\"8\" valign=\"top\">1534</th>\n",
       "      <th>1</th>\n",
       "      <td>4678.415899</td>\n",
       "      <td>16.0</td>\n",
       "      <td>1</td>\n",
       "      <td>free</td>\n",
       "      <td>178.0</td>\n",
       "    </tr>\n",
       "    <tr>\n",
       "      <th>2</th>\n",
       "      <td>2103.914120</td>\n",
       "      <td>14.0</td>\n",
       "      <td>1</td>\n",
       "      <td>free</td>\n",
       "      <td>162.0</td>\n",
       "    </tr>\n",
       "    <tr>\n",
       "      <th>4</th>\n",
       "      <td>3434.290912</td>\n",
       "      <td>15.0</td>\n",
       "      <td>1</td>\n",
       "      <td>free</td>\n",
       "      <td>170.0</td>\n",
       "    </tr>\n",
       "    <tr>\n",
       "      <th>6</th>\n",
       "      <td>3409.468534</td>\n",
       "      <td>25.0</td>\n",
       "      <td>2</td>\n",
       "      <td>free</td>\n",
       "      <td>300.0</td>\n",
       "    </tr>\n",
       "    <tr>\n",
       "      <th>8</th>\n",
       "      <td>7622.453034</td>\n",
       "      <td>48.0</td>\n",
       "      <td>2</td>\n",
       "      <td>free</td>\n",
       "      <td>484.0</td>\n",
       "    </tr>\n",
       "    <tr>\n",
       "      <th>9</th>\n",
       "      <td>4928.173852</td>\n",
       "      <td>23.0</td>\n",
       "      <td>1</td>\n",
       "      <td>free</td>\n",
       "      <td>234.0</td>\n",
       "    </tr>\n",
       "    <tr>\n",
       "      <th>11</th>\n",
       "      <td>13350.015305</td>\n",
       "      <td>77.0</td>\n",
       "      <td>4</td>\n",
       "      <td>free</td>\n",
       "      <td>816.0</td>\n",
       "    </tr>\n",
       "    <tr>\n",
       "      <th>12</th>\n",
       "      <td>2371.711192</td>\n",
       "      <td>16.0</td>\n",
       "      <td>1</td>\n",
       "      <td>free</td>\n",
       "      <td>178.0</td>\n",
       "    </tr>\n",
       "  </tbody>\n",
       "</table>\n",
       "</div>"
      ],
      "text/plain": [
       "               sum_distance  sum_duration  number_trips subscription_type  \\\n",
       "user_id month                                                               \n",
       "1533    8       4581.943632          22.0             1              free   \n",
       "        11      3414.448028          26.0             1              free   \n",
       "1534    1       4678.415899          16.0             1              free   \n",
       "        2       2103.914120          14.0             1              free   \n",
       "        4       3434.290912          15.0             1              free   \n",
       "        6       3409.468534          25.0             2              free   \n",
       "        8       7622.453034          48.0             2              free   \n",
       "        9       4928.173852          23.0             1              free   \n",
       "        11     13350.015305          77.0             4              free   \n",
       "        12      2371.711192          16.0             1              free   \n",
       "\n",
       "               revenue  \n",
       "user_id month           \n",
       "1533    8        226.0  \n",
       "        11       258.0  \n",
       "1534    1        178.0  \n",
       "        2        162.0  \n",
       "        4        170.0  \n",
       "        6        300.0  \n",
       "        8        484.0  \n",
       "        9        234.0  \n",
       "        11       816.0  \n",
       "        12       178.0  "
      ]
     },
     "execution_count": 40,
     "metadata": {},
     "output_type": "execute_result"
    }
   ],
   "source": [
    "data_total.tail(10)"
   ]
  },
  {
   "cell_type": "markdown",
   "id": "28b04556",
   "metadata": {},
   "source": [
    "**Вывод:** по итогам 5-го шага было выполено следующее:\n",
    "- Найдено суммарное расстояние, количество поездок и суммарное время для каждого пользователя за каждый месяц\n",
    "- Добавили столбец с помесячной выручкой, которую принёс каждый пользователь."
   ]
  },
  {
   "cell_type": "markdown",
   "id": "41545ac0",
   "metadata": {},
   "source": [
    "#### Шаг 6. Проверка гипотез"
   ]
  },
  {
   "cell_type": "markdown",
   "id": "aae5084c",
   "metadata": {},
   "source": [
    "*Задача №1*\n",
    "\n",
    "Важно понять, тратят ли пользователи с подпиской больше времени на поездки? Если да, то пользователи с подпиской могут быть «выгоднее» для компании. Проверьте гипотезу. Используйте исходные данные о продолжительности каждой сессии — отдельно для подписчиков и тех, у кого нет подписки."
   ]
  },
  {
   "cell_type": "markdown",
   "id": "f51177d4",
   "metadata": {},
   "source": [
    "- За нулевую гипотезу Н0 примем: duration при ultra = duration при free\n",
    "- За альтернативную гипотезу Н1 примем: duration при ultra > duration при free"
   ]
  },
  {
   "cell_type": "code",
   "execution_count": 41,
   "id": "e23cf7c6",
   "metadata": {},
   "outputs": [
    {
     "name": "stdout",
     "output_type": "stream",
     "text": [
      "р-значение: 1.2804098316645613e-34\n",
      "Отвергаем нулевую гипотезу\n"
     ]
    }
   ],
   "source": [
    "alpha = 0.05\n",
    "results = st.ttest_ind(data_ultra['duration'], data_free['duration'], alternative = 'greater')\n",
    "print('р-значение:', results.pvalue)\n",
    "\n",
    "if results.pvalue < alpha:\n",
    "    print('Отвергаем нулевую гипотезу')\n",
    "else:\n",
    "    print('Не получилось отвергнуть нулевую гипотезу')"
   ]
  },
  {
   "cell_type": "markdown",
   "id": "4ec1803e",
   "metadata": {},
   "source": [
    "По результам T-теста мы опровергли нулевую гипотезу, то есть, пользователи с подпиской тратят времени на поездки различное времени, затраченное пользователями без подписки. Об этом также упоминается и на этапе исследовательского анализа."
   ]
  },
  {
   "cell_type": "markdown",
   "id": "97b4d9e1",
   "metadata": {},
   "source": [
    "*Задача №2*\n",
    "\n",
    "Расстояние одной поездки в 3130 метров — оптимальное с точки зрения износа самоката. Можно ли сказать, что среднее расстояние, которое проезжают пользователи с подпиской за одну поездку, не превышает 3130 метров? Проверьте гипотезу и сделайте выводы."
   ]
  },
  {
   "cell_type": "markdown",
   "id": "223b78ed",
   "metadata": {},
   "source": [
    "- За нулевую гипотезу Н0 примем: distance при ultra = 3130\n",
    "- За альтернативную гипотезу Н1 примем: distance при ultra > 3130"
   ]
  },
  {
   "cell_type": "code",
   "execution_count": 42,
   "id": "b83b4225",
   "metadata": {},
   "outputs": [
    {
     "name": "stdout",
     "output_type": "stream",
     "text": [
      "p-значение: 0.9195368847849785\n",
      "Не получилось отвергнуть нулевую гипотезу\n"
     ]
    }
   ],
   "source": [
    "alpha = 0.05\n",
    "interested_value = 3130\n",
    "results = st.ttest_1samp(data_ultra['distance'], interested_value, alternative = 'greater')\n",
    "print('p-значение:', results.pvalue)\n",
    "\n",
    "if results.pvalue < alpha:\n",
    "    print('Отвергаем нулевую гипотезу')\n",
    "else:\n",
    "    print('Не получилось отвергнуть нулевую гипотезу')"
   ]
  },
  {
   "cell_type": "markdown",
   "id": "dfa8a82f",
   "metadata": {},
   "source": [
    "По результам T-теста мы не можем опровергнуть нулевую гипотезу, то есть, не можем сказать, что среднее расстояние, которое проезжают пользователи с подпиской за одну поездку, не превышает 3130 метров."
   ]
  },
  {
   "cell_type": "markdown",
   "id": "0ebd7746",
   "metadata": {},
   "source": [
    "*Задача №3*\n",
    "\n",
    "Проверьте гипотезу о том, будет ли помесячная выручка от пользователей с подпиской по месяцам выше, чем выручка от пользователей без подписки. Сделайте вывод."
   ]
  },
  {
   "cell_type": "markdown",
   "id": "6d7f2623",
   "metadata": {},
   "source": [
    "- За нулевую гипотезу Н0 примем: revenue при ultra = revenue при free\n",
    "- За альтернативную гипотезу Н1 примем: revenue при ultra > revenue при free"
   ]
  },
  {
   "cell_type": "code",
   "execution_count": 43,
   "id": "7aac6b69",
   "metadata": {},
   "outputs": [
    {
     "name": "stdout",
     "output_type": "stream",
     "text": [
      "р-значение: 2.8130926188487286e-35\n",
      "Отвергаем нулевую гипотезу\n"
     ]
    }
   ],
   "source": [
    "alpha = 0.05\n",
    "\n",
    "revenue_ultra = data_total.loc[data_total['subscription_type']=='ultra', 'revenue']\n",
    "revenue_free = data_total.loc[data_total['subscription_type']=='free', 'revenue']\n",
    "\n",
    "results = st.ttest_ind(revenue_ultra, revenue_free, alternative = 'greater')\n",
    "print('р-значение:', results.pvalue)\n",
    "\n",
    "if results.pvalue < alpha:\n",
    "    print('Отвергаем нулевую гипотезу')\n",
    "else:\n",
    "    print('Не удалось отвергнуть нулевую гипотезу')"
   ]
  },
  {
   "cell_type": "markdown",
   "id": "ae4dff92",
   "metadata": {},
   "source": [
    "По результам T-теста мы опровергли нулевую гипотезу, то есть, можно утверждать, что помесячная выручка от пользователей с подпиской по месяцам будет выше, чем выручка от пользователей без подписки."
   ]
  },
  {
   "cell_type": "markdown",
   "id": "2eb97852",
   "metadata": {},
   "source": [
    "*Задача №4*\n",
    "\n",
    "Представьте такую ситуацию: техническая команда сервиса обновила сервера, с которыми взаимодействует мобильное приложение. Она надеется, что из-за этого количество обращений в техподдержку значимо снизилось. Некоторый файл содержит для каждого пользователя данные о количестве обращений до обновления и после него. Какой тест вам понадобился бы для проверки этой гипотезы?"
   ]
  },
  {
   "cell_type": "markdown",
   "id": "ef5a7b05",
   "metadata": {},
   "source": [
    "В данной задаче речь идет об **односторонней** гипотезе о равенстве средних для зависимых (парных) выборок, то есть, понадобится метод scipy.stats.ttest_rel().\n",
    "\n",
    "В данной задаче нулевая и альтернативная гипотезы будут представлять следующее:\n",
    "- Н0: μ1=μ2\n",
    "- Н1: μ1≠μ2,\n",
    "\n",
    "где μ1 и μ2 - средние значения до обновления и после него."
   ]
  },
  {
   "cell_type": "markdown",
   "id": "61213c5e",
   "metadata": {},
   "source": [
    "#### Шаг 7. Распределения"
   ]
  },
  {
   "cell_type": "markdown",
   "id": "2162d15e",
   "metadata": {},
   "source": [
    "**1** Отделу маркетинга GoFast поставили задачу: нужно провести акцию с раздачей промокодов на один бесплатный месяц подписки, в рамках которой как минимум 100 существующих клиентов должны продлить эту подписку. То есть по завершении периода действия подписки пользователь может либо отказаться от неё, либо продлить, совершив соответствующий платёж. \n",
    "Эта акция уже проводилась ранее и по итогу выяснилось, что после бесплатного пробного периода подписку продлевают 10 % пользователей. Выяснить, какое минимальное количество промокодов нужно разослать, чтобы вероятность не выполнить план была примерно 5 %. Подобрать параметры распределения, описывающего эту ситуацию, построить график распределения и сформулировать ответ на вопрос о количестве промокодов."
   ]
  },
  {
   "cell_type": "code",
   "execution_count": 44,
   "id": "402b6b8a",
   "metadata": {},
   "outputs": [
    {
     "data": {
      "image/png": "[encoded data removed]",
      "text/plain": [
       "<Figure size 432x288 with 1 Axes>"
      ]
     },
     "metadata": {
      "needs_background": "light"
     },
     "output_type": "display_data"
    }
   ],
   "source": [
    "p = 0.1\n",
    "n = 1000\n",
    "\n",
    "distr = []\n",
    "\n",
    "for k in range(0, n + 1):\n",
    "    choose = factorial(n) / (factorial(k) * factorial(n - k))\n",
    "    prob = choose * p**k * (1-p)**(n-k) \n",
    "    distr.append(prob)\n",
    "    \n",
    "plt.bar(range(0, n + 1), distr);"
   ]
  },
  {
   "cell_type": "code",
   "execution_count": 45,
   "id": "c846b3c9",
   "metadata": {},
   "outputs": [
    {
     "name": "stdout",
     "output_type": "stream",
     "text": [
      "0.0532915847874438\n"
     ]
    }
   ],
   "source": [
    "n = 1000\n",
    "p = 0.04\n",
    "\n",
    "mu = n*p\n",
    "sigma = sqrt(n*p*(1-p))\n",
    "\n",
    "distr = st.norm(mu,sigma)\n",
    "\n",
    "result = distr.cdf(30)\n",
    "print(result)"
   ]
  },
  {
   "cell_type": "markdown",
   "id": "2bb1740b",
   "metadata": {},
   "source": [
    "*Ответ:* Минимальное количество промокодов нужно разослать, чтобы вероятность не выполнить план была примерно 5% - 30 шт, при параметры распределения: n = 1000, p = 0.04."
   ]
  },
  {
   "cell_type": "markdown",
   "id": "145c437c",
   "metadata": {},
   "source": [
    "**2** Отдел маркетинга рассылает клиентам push-уведомления в мобильном приложении. Клиенты могут открыть его или не открывать. Известно, что уведомления открывают около 40 % получивших клиентов. Отдел планирует разослать 1 млн уведомлений. С помощью аппроксимации построить примерный график распределения и оценить вероятность того, что уведомление откроют не более 399,5 тыс. пользователей."
   ]
  },
  {
   "cell_type": "code",
   "execution_count": 46,
   "id": "06506b62",
   "metadata": {},
   "outputs": [
    {
     "name": "stdout",
     "output_type": "stream",
     "text": [
      "0.15371708296369768\n"
     ]
    }
   ],
   "source": [
    "n = 1000000\n",
    "p = 0.4\n",
    "\n",
    "mu = n * p\n",
    "sigma = sqrt(n * p * (1 - p))\n",
    "\n",
    "distr = st.norm(mu, sigma) \n",
    "\n",
    "# считаем вероятность хвоста слева от 399,5 тысяч\n",
    "result = distr.cdf(399500)\n",
    "print(result)"
   ]
  },
  {
   "cell_type": "code",
   "execution_count": 47,
   "id": "daed5248",
   "metadata": {},
   "outputs": [
    {
     "data": {
      "image/png": "[encoded data removed]",
      "text/plain": [
       "<Figure size 432x288 with 1 Axes>"
      ]
     },
     "metadata": {
      "needs_background": "light"
     },
     "output_type": "display_data"
    }
   ],
   "source": [
    "n = 1000\n",
    "p = 0.4\n",
    " \n",
    "# считаем параметр распределения Пуассона для аппроксимации\n",
    "lmbd = n * p\n",
    " \n",
    "# задаем диапазон значений k для построения графика\n",
    "max_value = 1000\n",
    " \n",
    "binom_probs = []\n",
    "poisson_probs = []\n",
    "# для всех значений от 0 до 1000\n",
    "for k in range(max_value + 1):\n",
    "    # рассчитываем значения вероятности для биномиального распределения\n",
    "    # и распределения Пуассона\n",
    "    binom_prob = binom.pmf(k, n, p)\n",
    "    poisson_prob = poisson.pmf(k, lmbd)\n",
    "    # добавляем в соответствующие списки\n",
    "    binom_probs.append(binom_prob)\n",
    "    poisson_probs.append(poisson_prob)\n",
    " \n",
    "# рисуем графики\n",
    "plt.plot(range(max_value + 1), binom_probs, 'bo',\n",
    "         label=f'Биномиальное распределение с n={n} и p={p}')\n",
    "plt.plot(range(max_value + 1), poisson_probs, 'rd',\n",
    "         label='Аппроксимация распределением Пуассона')\n",
    "plt.xlabel(f'k: количество успехов для B{n, p} / событий для Pois({lmbd})')\n",
    "plt.ylabel('Вероятность k')\n",
    "plt.legend()\n",
    "plt.xticks(range(max_value + 1))\n",
    "plt.show()"
   ]
  },
  {
   "cell_type": "markdown",
   "id": "fbcd8bce",
   "metadata": {},
   "source": [
    "*Ответ:* Вероятность того, что уведомление откроют не более 399,5 тыс. пользователей примерно равна 15%."
   ]
  },
  {
   "cell_type": "markdown",
   "id": "45ac4fda",
   "metadata": {},
   "source": [
    "#### ОБЩИЙ ВЫВОД"
   ]
  },
  {
   "cell_type": "markdown",
   "id": "5926d014",
   "metadata": {},
   "source": [
    "**При изучении общей информации о каждом датафрейме, мы получили следуюшие данные:**\n",
    "- В датасете `data_users` 1565 строк и 5 колонок. Данные не имеют пропущенных значений, а также все столбцы имеют правильный тип данных. Наиболее часто встречаемый возраст пользователя - 25 лет.\n",
    "- В датасете `data_rides` 18068 строк и 4 колонки. Данные не имеют пропущенных значений. В данных не все столбцы имеют правильный тип данных (`date`). Наиболее часто встречаемая дистанция, которое пользователь проехал в текущей сессии - 3500 м. Наиболее часто встречаемая продолжительность сессии - 18 минут.\n",
    "- В датасете `subscriptions` 2 строки и 4 колонки. Данные не имеют пропущенных значений, а также все столбцы имеют правильный тип данных.\n",
    "\n",
    "**По итогам предобработки данных, мы добились следующих результатов:**\n",
    "- был приведен столбец date в датасете data_ridesс датой к правильному типу данных;\n",
    "- добавлен в датасет data_rides столбец month с номером месяца по столбцу с датой;\n",
    "- проверены датасеты data_users и data_rides на дубликаты;\n",
    "- выявленные дубликаты были удалены;\n",
    "- проверен за какой период данные;\n",
    "- проверен столбец продолжительности поездок на предмет аномалии. Получилось 40.8 минут и 0.5 минут, как показывает практика, и такое время поездок бывает в реальной жизни.\n",
    "\n",
    "**В ходе исследовательского анализа данных было выявлено следующее:**\n",
    "- Наиболее часто встречаемый город аренды самокатов GoFast - Пятигорск (с частотой втсречаемости 219). Наименеее встречаемый - Москва (с частотой втсречаемости 168);\n",
    "- В соотношении пользователей с подпиской и без подписки преобладают пользователи без подписки (в процентом соотношении 54,4%);\n",
    "- Наиболее часто встречаемый возраст пользователя совершавшего аренду самокатов GoFast - 25 лет. Наименеее встречаемый - 43 года;\n",
    "- Наиболее часто встречаемый диапазон расстояния, которое пользователь преодолел за одну поездку: 2.9-3.6 км. Реже всего проезжают расстояния свыше 5 км.;\n",
    "- Наиболее часто встречаемый диапазон продолжительности поездок: 17-21 мин. Реже всего продолжительность поездки составляет менее 5 мин. и более 35 мин.\n",
    "\n",
    "**По получившимся датасетам c данными о пользователях без подписки и с подпиской, имеем следующую информацию:**\n",
    "- Пользователи без подписки преобладают над пользователями с подпиской;\n",
    "- Наиболее частое количество поездок пользователей без подписки наблюдается с диапазоном расстояния поездки: 2.4-2.8 км. Также наблюдается активное количество поездок с расстоянием поездки до 1 км. Начиная с 6 км активность поездок минимальна.\n",
    "- Наиболее частое количество поездок пользователей без подписки наблюдается с диапазоном продолжительности поездки: 17-18 минут. Меньше всего количество пользователей без подписки, совершавших поездку более 30 минут и менее 5 минут.\n",
    "- Наиболее частое количество поездок пользователей с подпиской наблюдается с диапазоном расстояния поездки: 3.0-3.2 км. Также наблюдается наименее активное количество поездок с диапазонами расстояния поездки 1.8-2.0 км и более 5 км.\n",
    "- Наиболее частое количество поездок пользователей с подпиской наблюдается с диапазоном продолжительности поездки: 17-18 минут. Меньше всего количество пользователей с подпиской, совершавших поездку более 35 минут и менее 5 минут.\n",
    "\n",
    "В общем, можно сделать вывод, что пользователи с бесплатной подпиской больше проезжают дальные расстояния, чем пользователи с подпиской, а также пользователи без подписки больше тратят времени на поездки.\n",
    "\n",
    "**Был произведен расчет выручки, в ходе которой были выполнены шаги:**\n",
    "- Найдено суммарное расстояние, количество поездок и суммарное время для каждого пользователя за каждый месяц\n",
    "- Добавлен столбец с помесячной выручкой, которую принёс каждый пользователь.\n",
    "\n",
    "**При проверке гипотез, мы получили следующие результаты:**\n",
    "\n",
    "Задача №1 - опровергли нулевую гипотезу, то есть, пользователи с подпиской тратят времени на поездки различное времени, затраченное пользователями без подписки. Об этом также упоминается и на этапе исследовательского анализа.\n",
    "\n",
    "Задача №2 - не можем опровергнуть нулевую гипотезу, то есть, не можем сказать, что среднее расстояние, которое проезжают пользователи с подпиской за одну поездку, не превышает 3130 метров.\n",
    "\n",
    "Задача №3 - опровергли нулевую гипотезу, то есть, можно утверждать, что помесячная выручка от пользователей с подпиской по месяцам будет выше, чем выручка от пользователей без подписки.\n",
    "\n",
    "Задача №4 - определена для проверки гипотеза о равенстве средних для зависимых (парных) выборок. И определен метод scipy.stats.ttest_rel()."
   ]
  }
 ],
 "metadata": {
  "ExecuteTimeLog": [
   {
    "duration": 1366,
    "start_time": "2023-10-05T13:05:55.125Z"
   },
   {
    "duration": 76,
    "start_time": "2023-10-05T13:05:56.493Z"
   },
   {
    "duration": 15,
    "start_time": "2023-10-05T13:05:56.571Z"
   },
   {
    "duration": 87,
    "start_time": "2023-10-05T13:05:56.588Z"
   },
   {
    "duration": 11,
    "start_time": "2023-10-05T13:05:56.678Z"
   },
   {
    "duration": 85,
    "start_time": "2023-10-05T13:05:56.691Z"
   },
   {
    "duration": 10,
    "start_time": "2023-10-05T13:05:56.778Z"
   },
   {
    "duration": 7,
    "start_time": "2023-10-05T13:06:48.372Z"
   },
   {
    "duration": 12,
    "start_time": "2023-10-05T13:07:09.960Z"
   },
   {
    "duration": 12,
    "start_time": "2023-10-05T13:07:26.935Z"
   },
   {
    "duration": 11,
    "start_time": "2023-10-05T13:07:47.882Z"
   },
   {
    "duration": 375,
    "start_time": "2023-10-05T13:09:10.477Z"
   },
   {
    "duration": 139,
    "start_time": "2023-10-05T13:10:01.521Z"
   },
   {
    "duration": 303,
    "start_time": "2023-10-05T13:11:07.773Z"
   },
   {
    "duration": 314,
    "start_time": "2023-10-05T13:11:14.231Z"
   },
   {
    "duration": 4022,
    "start_time": "2023-10-05T13:12:03.697Z"
   },
   {
    "duration": 149,
    "start_time": "2023-10-05T13:12:22.669Z"
   },
   {
    "duration": 131,
    "start_time": "2023-10-05T13:12:36.419Z"
   },
   {
    "duration": 213,
    "start_time": "2023-10-05T13:12:40.560Z"
   },
   {
    "duration": 126,
    "start_time": "2023-10-05T13:12:53.225Z"
   },
   {
    "duration": 12,
    "start_time": "2023-10-05T13:28:03.200Z"
   },
   {
    "duration": 10,
    "start_time": "2023-10-05T13:29:13.556Z"
   },
   {
    "duration": 11,
    "start_time": "2023-10-05T13:29:41.178Z"
   },
   {
    "duration": 8,
    "start_time": "2023-10-05T13:30:54.875Z"
   },
   {
    "duration": 20,
    "start_time": "2023-10-05T13:31:17.591Z"
   },
   {
    "duration": 12,
    "start_time": "2023-10-05T13:31:23.321Z"
   },
   {
    "duration": 5,
    "start_time": "2023-10-05T13:33:16.302Z"
   },
   {
    "duration": 9,
    "start_time": "2023-10-05T13:33:43.232Z"
   },
   {
    "duration": 4,
    "start_time": "2023-10-05T13:38:50.849Z"
   },
   {
    "duration": 6,
    "start_time": "2023-10-05T13:39:16.326Z"
   },
   {
    "duration": 16,
    "start_time": "2023-10-05T14:20:12.051Z"
   },
   {
    "duration": 139,
    "start_time": "2023-10-05T14:21:41.805Z"
   },
   {
    "duration": 153,
    "start_time": "2023-10-05T14:22:12.924Z"
   },
   {
    "duration": 169,
    "start_time": "2023-10-05T14:22:32.961Z"
   },
   {
    "duration": 177,
    "start_time": "2023-10-05T14:22:41.363Z"
   },
   {
    "duration": 165,
    "start_time": "2023-10-05T14:22:46.175Z"
   },
   {
    "duration": 153,
    "start_time": "2023-10-05T14:23:00.810Z"
   },
   {
    "duration": 84,
    "start_time": "2023-10-05T14:26:14.493Z"
   },
   {
    "duration": 160,
    "start_time": "2023-10-05T14:26:23.696Z"
   },
   {
    "duration": 102,
    "start_time": "2023-10-05T14:28:18.299Z"
   },
   {
    "duration": 106,
    "start_time": "2023-10-05T14:30:03.529Z"
   },
   {
    "duration": 125,
    "start_time": "2023-10-05T14:30:16.482Z"
   },
   {
    "duration": 108,
    "start_time": "2023-10-05T14:30:23.297Z"
   },
   {
    "duration": 295,
    "start_time": "2023-10-05T14:33:04.374Z"
   },
   {
    "duration": 310,
    "start_time": "2023-10-05T14:33:15.513Z"
   },
   {
    "duration": 291,
    "start_time": "2023-10-05T14:33:23.102Z"
   },
   {
    "duration": 107,
    "start_time": "2023-10-05T14:36:00.177Z"
   },
   {
    "duration": 312,
    "start_time": "2023-10-05T14:36:09.787Z"
   },
   {
    "duration": 391,
    "start_time": "2023-10-05T14:37:04.102Z"
   },
   {
    "duration": 172,
    "start_time": "2023-10-05T14:37:44.804Z"
   },
   {
    "duration": 186,
    "start_time": "2023-10-05T14:37:52.637Z"
   },
   {
    "duration": 1168,
    "start_time": "2023-10-05T14:41:50.592Z"
   },
   {
    "duration": 29,
    "start_time": "2023-10-05T14:41:51.763Z"
   },
   {
    "duration": 17,
    "start_time": "2023-10-05T14:41:51.794Z"
   },
   {
    "duration": 14,
    "start_time": "2023-10-05T14:41:51.813Z"
   },
   {
    "duration": 207,
    "start_time": "2023-10-05T14:41:51.829Z"
   },
   {
    "duration": 29,
    "start_time": "2023-10-05T14:41:52.038Z"
   },
   {
    "duration": 15,
    "start_time": "2023-10-05T14:41:52.068Z"
   },
   {
    "duration": 40,
    "start_time": "2023-10-05T14:41:52.085Z"
   },
   {
    "duration": 168,
    "start_time": "2023-10-05T14:41:52.127Z"
   },
   {
    "duration": 153,
    "start_time": "2023-10-05T14:41:52.297Z"
   },
   {
    "duration": 16,
    "start_time": "2023-10-05T14:41:52.451Z"
   },
   {
    "duration": 16,
    "start_time": "2023-10-05T14:41:52.469Z"
   },
   {
    "duration": 17,
    "start_time": "2023-10-05T14:41:52.490Z"
   },
   {
    "duration": 19,
    "start_time": "2023-10-05T14:41:52.509Z"
   },
   {
    "duration": 18,
    "start_time": "2023-10-05T14:41:52.529Z"
   },
   {
    "duration": 7,
    "start_time": "2023-10-05T14:41:52.549Z"
   },
   {
    "duration": 201,
    "start_time": "2023-10-05T14:41:52.557Z"
   },
   {
    "duration": 127,
    "start_time": "2023-10-05T14:41:52.760Z"
   },
   {
    "duration": 343,
    "start_time": "2023-10-05T14:41:52.889Z"
   },
   {
    "duration": 197,
    "start_time": "2023-10-05T14:41:53.234Z"
   },
   {
    "duration": 2,
    "start_time": "2023-10-05T14:41:53.433Z"
   },
   {
    "duration": 200,
    "start_time": "2023-10-05T14:42:43.570Z"
   },
   {
    "duration": 261,
    "start_time": "2023-10-05T14:42:49.125Z"
   },
   {
    "duration": 288,
    "start_time": "2023-10-05T14:47:27.762Z"
   },
   {
    "duration": 212,
    "start_time": "2023-10-05T14:48:10.174Z"
   },
   {
    "duration": 1437,
    "start_time": "2023-10-05T14:50:30.524Z"
   },
   {
    "duration": 29,
    "start_time": "2023-10-05T14:50:31.963Z"
   },
   {
    "duration": 235,
    "start_time": "2023-10-05T14:50:31.993Z"
   },
   {
    "duration": 50,
    "start_time": "2023-10-05T14:50:32.230Z"
   },
   {
    "duration": 200,
    "start_time": "2023-10-05T14:50:32.282Z"
   },
   {
    "duration": 36,
    "start_time": "2023-10-05T14:50:32.485Z"
   },
   {
    "duration": 56,
    "start_time": "2023-10-05T14:50:32.522Z"
   },
   {
    "duration": 65,
    "start_time": "2023-10-05T14:50:32.580Z"
   },
   {
    "duration": 220,
    "start_time": "2023-10-05T14:50:32.647Z"
   },
   {
    "duration": 154,
    "start_time": "2023-10-05T14:50:32.869Z"
   },
   {
    "duration": 26,
    "start_time": "2023-10-05T14:50:33.025Z"
   },
   {
    "duration": 19,
    "start_time": "2023-10-05T14:50:33.053Z"
   },
   {
    "duration": 31,
    "start_time": "2023-10-05T14:50:33.074Z"
   },
   {
    "duration": 16,
    "start_time": "2023-10-05T14:50:33.107Z"
   },
   {
    "duration": 14,
    "start_time": "2023-10-05T14:50:33.125Z"
   },
   {
    "duration": 25,
    "start_time": "2023-10-05T14:50:33.141Z"
   },
   {
    "duration": 196,
    "start_time": "2023-10-05T14:50:33.167Z"
   },
   {
    "duration": 120,
    "start_time": "2023-10-05T14:50:33.365Z"
   },
   {
    "duration": 342,
    "start_time": "2023-10-05T14:50:33.487Z"
   },
   {
    "duration": 3,
    "start_time": "2023-10-05T14:56:36.910Z"
   },
   {
    "duration": 233,
    "start_time": "2023-10-05T14:56:37.144Z"
   },
   {
    "duration": 182,
    "start_time": "2023-10-05T14:57:59.293Z"
   },
   {
    "duration": 200,
    "start_time": "2023-10-05T14:58:25.573Z"
   },
   {
    "duration": 188,
    "start_time": "2023-10-05T14:58:30.202Z"
   },
   {
    "duration": 179,
    "start_time": "2023-10-05T15:01:10.985Z"
   },
   {
    "duration": 203,
    "start_time": "2023-10-05T15:01:26.168Z"
   },
   {
    "duration": 51,
    "start_time": "2023-10-06T07:02:27.130Z"
   },
   {
    "duration": 1401,
    "start_time": "2023-10-06T07:02:35.046Z"
   },
   {
    "duration": 73,
    "start_time": "2023-10-06T07:02:36.449Z"
   },
   {
    "duration": 15,
    "start_time": "2023-10-06T07:02:36.523Z"
   },
   {
    "duration": 20,
    "start_time": "2023-10-06T07:02:36.540Z"
   },
   {
    "duration": 173,
    "start_time": "2023-10-06T07:02:36.562Z"
   },
   {
    "duration": 67,
    "start_time": "2023-10-06T07:02:36.736Z"
   },
   {
    "duration": 10,
    "start_time": "2023-10-06T07:02:36.805Z"
   },
   {
    "duration": 50,
    "start_time": "2023-10-06T07:02:36.817Z"
   },
   {
    "duration": 160,
    "start_time": "2023-10-06T07:02:36.868Z"
   },
   {
    "duration": 142,
    "start_time": "2023-10-06T07:02:37.030Z"
   },
   {
    "duration": 51,
    "start_time": "2023-10-06T07:02:37.174Z"
   },
   {
    "duration": 7,
    "start_time": "2023-10-06T07:02:37.227Z"
   },
   {
    "duration": 27,
    "start_time": "2023-10-06T07:02:37.236Z"
   },
   {
    "duration": 29,
    "start_time": "2023-10-06T07:02:37.265Z"
   },
   {
    "duration": 164,
    "start_time": "2023-10-06T07:02:37.296Z"
   },
   {
    "duration": 78,
    "start_time": "2023-10-06T07:02:37.461Z"
   },
   {
    "duration": 190,
    "start_time": "2023-10-06T07:02:37.541Z"
   },
   {
    "duration": 110,
    "start_time": "2023-10-06T07:02:37.733Z"
   },
   {
    "duration": 330,
    "start_time": "2023-10-06T07:02:37.844Z"
   },
   {
    "duration": 211,
    "start_time": "2023-10-06T07:02:38.176Z"
   },
   {
    "duration": 185,
    "start_time": "2023-10-06T07:02:38.389Z"
   },
   {
    "duration": 23,
    "start_time": "2023-10-06T07:02:38.577Z"
   },
   {
    "duration": 24,
    "start_time": "2023-10-06T07:03:15.706Z"
   },
   {
    "duration": 23,
    "start_time": "2023-10-06T07:03:41.820Z"
   },
   {
    "duration": 24,
    "start_time": "2023-10-06T07:03:53.257Z"
   },
   {
    "duration": 118,
    "start_time": "2023-10-06T07:06:07.387Z"
   },
   {
    "duration": 25,
    "start_time": "2023-10-06T07:06:20.710Z"
   },
   {
    "duration": 32,
    "start_time": "2023-10-06T07:08:01.035Z"
   },
   {
    "duration": 110,
    "start_time": "2023-10-06T07:08:46.450Z"
   },
   {
    "duration": 29,
    "start_time": "2023-10-06T07:09:05.887Z"
   },
   {
    "duration": 45,
    "start_time": "2023-10-06T07:09:09.871Z"
   },
   {
    "duration": 29,
    "start_time": "2023-10-06T07:09:13.856Z"
   },
   {
    "duration": 11,
    "start_time": "2023-10-06T07:12:12.931Z"
   },
   {
    "duration": 21,
    "start_time": "2023-10-06T07:12:22.639Z"
   },
   {
    "duration": 19,
    "start_time": "2023-10-06T07:12:35.655Z"
   },
   {
    "duration": 16,
    "start_time": "2023-10-06T07:13:15.040Z"
   },
   {
    "duration": 18,
    "start_time": "2023-10-06T07:13:27.069Z"
   },
   {
    "duration": 19,
    "start_time": "2023-10-06T07:13:34.860Z"
   },
   {
    "duration": 7,
    "start_time": "2023-10-06T07:26:05.650Z"
   },
   {
    "duration": 14,
    "start_time": "2023-10-06T07:27:44.174Z"
   },
   {
    "duration": 11,
    "start_time": "2023-10-06T07:28:49.953Z"
   },
   {
    "duration": 1218,
    "start_time": "2023-10-06T07:30:27.780Z"
   },
   {
    "duration": 31,
    "start_time": "2023-10-06T07:30:29.000Z"
   },
   {
    "duration": 20,
    "start_time": "2023-10-06T07:30:29.033Z"
   },
   {
    "duration": 25,
    "start_time": "2023-10-06T07:30:29.056Z"
   },
   {
    "duration": 200,
    "start_time": "2023-10-06T07:30:29.085Z"
   },
   {
    "duration": 30,
    "start_time": "2023-10-06T07:30:29.287Z"
   },
   {
    "duration": 13,
    "start_time": "2023-10-06T07:30:29.319Z"
   },
   {
    "duration": 38,
    "start_time": "2023-10-06T07:30:29.334Z"
   },
   {
    "duration": 191,
    "start_time": "2023-10-06T07:30:29.375Z"
   },
   {
    "duration": 182,
    "start_time": "2023-10-06T07:30:29.568Z"
   },
   {
    "duration": 16,
    "start_time": "2023-10-06T07:30:29.751Z"
   },
   {
    "duration": 24,
    "start_time": "2023-10-06T07:30:29.771Z"
   },
   {
    "duration": 42,
    "start_time": "2023-10-06T07:30:29.797Z"
   },
   {
    "duration": 16,
    "start_time": "2023-10-06T07:30:29.843Z"
   },
   {
    "duration": 16,
    "start_time": "2023-10-06T07:30:29.862Z"
   },
   {
    "duration": 17,
    "start_time": "2023-10-06T07:30:29.882Z"
   },
   {
    "duration": 25,
    "start_time": "2023-10-06T07:30:29.901Z"
   },
   {
    "duration": 50,
    "start_time": "2023-10-06T07:30:29.928Z"
   },
   {
    "duration": 298,
    "start_time": "2023-10-06T07:30:29.980Z"
   },
   {
    "duration": 145,
    "start_time": "2023-10-06T07:30:30.280Z"
   },
   {
    "duration": 342,
    "start_time": "2023-10-06T07:30:30.427Z"
   },
   {
    "duration": 225,
    "start_time": "2023-10-06T07:30:30.771Z"
   },
   {
    "duration": 326,
    "start_time": "2023-10-06T07:30:30.999Z"
   },
   {
    "duration": 53,
    "start_time": "2023-10-06T07:30:31.328Z"
   },
   {
    "duration": 84,
    "start_time": "2023-10-06T07:30:31.383Z"
   },
   {
    "duration": 62,
    "start_time": "2023-10-06T07:30:31.470Z"
   },
   {
    "duration": 6,
    "start_time": "2023-10-06T07:32:34.765Z"
   },
   {
    "duration": 391,
    "start_time": "2023-10-06T07:42:35.367Z"
   },
   {
    "duration": 198,
    "start_time": "2023-10-06T07:42:57.480Z"
   },
   {
    "duration": 227,
    "start_time": "2023-10-06T07:45:42.439Z"
   },
   {
    "duration": 244,
    "start_time": "2023-10-06T07:45:50.136Z"
   },
   {
    "duration": 216,
    "start_time": "2023-10-06T07:46:01.266Z"
   },
   {
    "duration": 219,
    "start_time": "2023-10-06T07:46:12.725Z"
   },
   {
    "duration": 222,
    "start_time": "2023-10-06T07:46:33.895Z"
   },
   {
    "duration": 245,
    "start_time": "2023-10-06T07:46:50.294Z"
   },
   {
    "duration": 231,
    "start_time": "2023-10-06T07:47:02.380Z"
   },
   {
    "duration": 234,
    "start_time": "2023-10-06T07:47:08.136Z"
   },
   {
    "duration": 199,
    "start_time": "2023-10-06T07:47:11.495Z"
   },
   {
    "duration": 312,
    "start_time": "2023-10-06T07:47:49.903Z"
   },
   {
    "duration": 221,
    "start_time": "2023-10-06T07:48:35.953Z"
   },
   {
    "duration": 217,
    "start_time": "2023-10-06T07:49:32.107Z"
   },
   {
    "duration": 223,
    "start_time": "2023-10-06T07:49:52.724Z"
   },
   {
    "duration": 219,
    "start_time": "2023-10-06T07:50:02.398Z"
   },
   {
    "duration": 235,
    "start_time": "2023-10-06T07:50:54.194Z"
   },
   {
    "duration": 211,
    "start_time": "2023-10-06T07:52:07.192Z"
   },
   {
    "duration": 231,
    "start_time": "2023-10-06T07:52:32.531Z"
   },
   {
    "duration": 209,
    "start_time": "2023-10-06T07:52:39.461Z"
   },
   {
    "duration": 188,
    "start_time": "2023-10-06T07:52:44.379Z"
   },
   {
    "duration": 220,
    "start_time": "2023-10-06T07:52:56.751Z"
   },
   {
    "duration": 312,
    "start_time": "2023-10-06T07:53:09.407Z"
   },
   {
    "duration": 151,
    "start_time": "2023-10-06T07:54:24.186Z"
   },
   {
    "duration": 213,
    "start_time": "2023-10-06T07:55:56.322Z"
   },
   {
    "duration": 76,
    "start_time": "2023-10-06T07:56:18.251Z"
   },
   {
    "duration": 218,
    "start_time": "2023-10-06T07:56:26.389Z"
   },
   {
    "duration": 211,
    "start_time": "2023-10-06T07:58:41.367Z"
   },
   {
    "duration": 209,
    "start_time": "2023-10-06T07:59:04.572Z"
   },
   {
    "duration": 219,
    "start_time": "2023-10-06T08:00:14.427Z"
   },
   {
    "duration": 232,
    "start_time": "2023-10-06T08:00:18.056Z"
   },
   {
    "duration": 15,
    "start_time": "2023-10-06T08:02:41.535Z"
   },
   {
    "duration": 12,
    "start_time": "2023-10-06T08:03:04.450Z"
   },
   {
    "duration": 17,
    "start_time": "2023-10-06T08:41:19.397Z"
   },
   {
    "duration": 17,
    "start_time": "2023-10-06T08:41:27.870Z"
   },
   {
    "duration": 120,
    "start_time": "2023-10-06T08:41:59.610Z"
   },
   {
    "duration": 105,
    "start_time": "2023-10-06T08:42:30.998Z"
   },
   {
    "duration": 986,
    "start_time": "2023-10-06T08:42:50.466Z"
   },
   {
    "duration": 1011,
    "start_time": "2023-10-06T08:47:16.141Z"
   },
   {
    "duration": 933,
    "start_time": "2023-10-06T08:50:14.215Z"
   },
   {
    "duration": 950,
    "start_time": "2023-10-06T08:52:30.247Z"
   },
   {
    "duration": 974,
    "start_time": "2023-10-06T08:52:36.035Z"
   },
   {
    "duration": 1061,
    "start_time": "2023-10-06T08:53:01.609Z"
   },
   {
    "duration": 11,
    "start_time": "2023-10-06T08:53:04.703Z"
   },
   {
    "duration": 4,
    "start_time": "2023-10-06T08:55:10.872Z"
   },
   {
    "duration": 11,
    "start_time": "2023-10-06T08:55:13.985Z"
   },
   {
    "duration": 21,
    "start_time": "2023-10-06T09:04:21.627Z"
   },
   {
    "duration": 18,
    "start_time": "2023-10-06T09:07:52.443Z"
   },
   {
    "duration": 2,
    "start_time": "2023-10-06T09:08:34.905Z"
   },
   {
    "duration": 4,
    "start_time": "2023-10-06T09:20:45.941Z"
   },
   {
    "duration": 80,
    "start_time": "2023-10-06T09:20:48.021Z"
   },
   {
    "duration": 6,
    "start_time": "2023-10-06T09:21:10.102Z"
   },
   {
    "duration": 3149,
    "start_time": "2023-10-06T09:21:12.821Z"
   },
   {
    "duration": 3,
    "start_time": "2023-10-06T09:22:17.692Z"
   },
   {
    "duration": 161,
    "start_time": "2023-10-06T09:22:21.960Z"
   },
   {
    "duration": 6,
    "start_time": "2023-10-06T09:22:34.947Z"
   },
   {
    "duration": 288,
    "start_time": "2023-10-06T09:22:37.200Z"
   },
   {
    "duration": 18,
    "start_time": "2023-10-06T09:22:55.585Z"
   },
   {
    "duration": 5,
    "start_time": "2023-10-06T09:26:34.211Z"
   },
   {
    "duration": 3632,
    "start_time": "2023-10-06T09:26:37.722Z"
   },
   {
    "duration": 13,
    "start_time": "2023-10-06T09:26:41.731Z"
   },
   {
    "duration": 2482,
    "start_time": "2023-10-06T09:27:59.949Z"
   },
   {
    "duration": 4,
    "start_time": "2023-10-06T09:28:02.758Z"
   },
   {
    "duration": 147,
    "start_time": "2023-10-06T09:28:06.619Z"
   },
   {
    "duration": 13,
    "start_time": "2023-10-06T09:28:09.162Z"
   },
   {
    "duration": 14,
    "start_time": "2023-10-06T09:28:38.238Z"
   },
   {
    "duration": 1394,
    "start_time": "2023-10-07T06:33:40.670Z"
   },
   {
    "duration": 85,
    "start_time": "2023-10-07T06:33:42.077Z"
   },
   {
    "duration": 47,
    "start_time": "2023-10-07T06:33:42.172Z"
   },
   {
    "duration": 8,
    "start_time": "2023-10-07T06:33:42.221Z"
   },
   {
    "duration": 193,
    "start_time": "2023-10-07T06:33:42.230Z"
   },
   {
    "duration": 111,
    "start_time": "2023-10-07T06:33:42.424Z"
   },
   {
    "duration": 25,
    "start_time": "2023-10-07T06:33:42.536Z"
   },
   {
    "duration": 27,
    "start_time": "2023-10-07T06:33:42.563Z"
   },
   {
    "duration": 144,
    "start_time": "2023-10-07T06:33:42.593Z"
   },
   {
    "duration": 143,
    "start_time": "2023-10-07T06:33:42.739Z"
   },
   {
    "duration": 74,
    "start_time": "2023-10-07T06:33:42.886Z"
   },
   {
    "duration": 15,
    "start_time": "2023-10-07T06:33:42.965Z"
   },
   {
    "duration": 20,
    "start_time": "2023-10-07T06:33:42.990Z"
   },
   {
    "duration": 11,
    "start_time": "2023-10-07T06:33:43.014Z"
   },
   {
    "duration": 6,
    "start_time": "2023-10-07T06:33:43.026Z"
   },
   {
    "duration": 42,
    "start_time": "2023-10-07T06:33:43.034Z"
   },
   {
    "duration": 15,
    "start_time": "2023-10-07T06:33:43.086Z"
   },
   {
    "duration": 43,
    "start_time": "2023-10-07T06:33:43.103Z"
   },
   {
    "duration": 237,
    "start_time": "2023-10-07T06:33:43.161Z"
   },
   {
    "duration": 131,
    "start_time": "2023-10-07T06:33:43.399Z"
   },
   {
    "duration": 298,
    "start_time": "2023-10-07T06:33:43.532Z"
   },
   {
    "duration": 205,
    "start_time": "2023-10-07T06:33:43.831Z"
   },
   {
    "duration": 230,
    "start_time": "2023-10-07T06:33:44.038Z"
   },
   {
    "duration": 47,
    "start_time": "2023-10-07T06:33:44.276Z"
   },
   {
    "duration": 14,
    "start_time": "2023-10-07T06:33:44.324Z"
   },
   {
    "duration": 53,
    "start_time": "2023-10-07T06:33:44.348Z"
   },
   {
    "duration": 86,
    "start_time": "2023-10-07T06:33:44.402Z"
   },
   {
    "duration": 11,
    "start_time": "2023-10-07T06:33:44.496Z"
   },
   {
    "duration": 217,
    "start_time": "2023-10-07T06:33:44.508Z"
   },
   {
    "duration": 211,
    "start_time": "2023-10-07T06:33:44.726Z"
   },
   {
    "duration": 189,
    "start_time": "2023-10-07T06:33:44.939Z"
   },
   {
    "duration": 184,
    "start_time": "2023-10-07T06:33:45.129Z"
   },
   {
    "duration": 920,
    "start_time": "2023-10-07T06:33:45.314Z"
   },
   {
    "duration": 10,
    "start_time": "2023-10-07T06:33:46.236Z"
   },
   {
    "duration": 42,
    "start_time": "2023-10-07T06:33:46.266Z"
   },
   {
    "duration": 4,
    "start_time": "2023-10-07T06:33:46.309Z"
   },
   {
    "duration": 174,
    "start_time": "2023-10-07T06:33:46.315Z"
   },
   {
    "duration": 20,
    "start_time": "2023-10-07T06:33:46.490Z"
   },
   {
    "duration": 11,
    "start_time": "2023-10-07T06:33:46.516Z"
   },
   {
    "duration": 4,
    "start_time": "2023-10-07T06:48:44.813Z"
   },
   {
    "duration": 14,
    "start_time": "2023-10-07T06:59:22.534Z"
   },
   {
    "duration": 98,
    "start_time": "2023-10-07T06:59:25.909Z"
   },
   {
    "duration": 24,
    "start_time": "2023-10-07T06:59:36.073Z"
   },
   {
    "duration": 8,
    "start_time": "2023-10-07T07:03:09.277Z"
   },
   {
    "duration": 5,
    "start_time": "2023-10-07T07:04:25.006Z"
   },
   {
    "duration": 9,
    "start_time": "2023-10-07T07:08:42.055Z"
   },
   {
    "duration": 130,
    "start_time": "2023-10-07T07:11:01.471Z"
   },
   {
    "duration": 21,
    "start_time": "2023-10-07T07:12:06.382Z"
   },
   {
    "duration": 9,
    "start_time": "2023-10-07T07:12:33.102Z"
   },
   {
    "duration": 988,
    "start_time": "2023-10-07T07:43:55.961Z"
   },
   {
    "duration": 71,
    "start_time": "2023-10-07T07:44:28.700Z"
   },
   {
    "duration": 150,
    "start_time": "2023-10-07T07:44:38.431Z"
   },
   {
    "duration": 82,
    "start_time": "2023-10-07T07:44:57.330Z"
   },
   {
    "duration": 126,
    "start_time": "2023-10-07T07:45:01.180Z"
   },
   {
    "duration": 1032,
    "start_time": "2023-10-07T07:45:40.472Z"
   },
   {
    "duration": 1048,
    "start_time": "2023-10-07T07:45:50.732Z"
   },
   {
    "duration": 959,
    "start_time": "2023-10-07T07:45:57.973Z"
   },
   {
    "duration": 529,
    "start_time": "2023-10-07T07:46:13.864Z"
   },
   {
    "duration": 237,
    "start_time": "2023-10-07T07:46:22.677Z"
   },
   {
    "duration": 250,
    "start_time": "2023-10-07T07:47:22.236Z"
   },
   {
    "duration": 240,
    "start_time": "2023-10-07T07:47:32.956Z"
   },
   {
    "duration": 317,
    "start_time": "2023-10-07T07:52:09.459Z"
   },
   {
    "duration": 234,
    "start_time": "2023-10-07T07:52:17.251Z"
   },
   {
    "duration": 221,
    "start_time": "2023-10-07T07:52:25.676Z"
   },
   {
    "duration": 221,
    "start_time": "2023-10-07T07:52:31.933Z"
   },
   {
    "duration": 223,
    "start_time": "2023-10-07T07:52:39.597Z"
   },
   {
    "duration": 251,
    "start_time": "2023-10-07T07:52:48.932Z"
   },
   {
    "duration": 247,
    "start_time": "2023-10-07T07:52:57.173Z"
   },
   {
    "duration": 220,
    "start_time": "2023-10-07T07:53:08.477Z"
   },
   {
    "duration": 230,
    "start_time": "2023-10-07T07:53:26.370Z"
   },
   {
    "duration": 225,
    "start_time": "2023-10-07T07:53:35.697Z"
   },
   {
    "duration": 230,
    "start_time": "2023-10-07T07:53:44.725Z"
   },
   {
    "duration": 7,
    "start_time": "2023-10-07T07:56:08.398Z"
   },
   {
    "duration": 12,
    "start_time": "2023-10-07T07:56:28.850Z"
   },
   {
    "duration": 13,
    "start_time": "2023-10-07T07:56:37.643Z"
   },
   {
    "duration": 4,
    "start_time": "2023-10-07T07:56:56.587Z"
   },
   {
    "duration": 9,
    "start_time": "2023-10-07T07:57:04.159Z"
   },
   {
    "duration": 3,
    "start_time": "2023-10-07T07:57:09.935Z"
   },
   {
    "duration": 5,
    "start_time": "2023-10-07T07:58:08.084Z"
   },
   {
    "duration": 5,
    "start_time": "2023-10-07T08:00:09.114Z"
   },
   {
    "duration": 8,
    "start_time": "2023-10-07T08:00:58.269Z"
   },
   {
    "duration": 13,
    "start_time": "2023-10-07T08:01:01.936Z"
   },
   {
    "duration": 4,
    "start_time": "2023-10-07T08:01:09.993Z"
   },
   {
    "duration": 4,
    "start_time": "2023-10-07T08:01:26.601Z"
   },
   {
    "duration": 4,
    "start_time": "2023-10-07T08:01:41.115Z"
   },
   {
    "duration": 70,
    "start_time": "2023-10-07T08:01:46.261Z"
   },
   {
    "duration": 4,
    "start_time": "2023-10-07T08:01:54.028Z"
   },
   {
    "duration": 4,
    "start_time": "2023-10-07T08:01:58.204Z"
   },
   {
    "duration": 5,
    "start_time": "2023-10-07T08:02:03.624Z"
   },
   {
    "duration": 4,
    "start_time": "2023-10-07T08:02:10.788Z"
   },
   {
    "duration": 4,
    "start_time": "2023-10-07T08:02:24.928Z"
   },
   {
    "duration": 5,
    "start_time": "2023-10-07T08:02:31.826Z"
   },
   {
    "duration": 14,
    "start_time": "2023-10-07T08:02:45.865Z"
   },
   {
    "duration": 4,
    "start_time": "2023-10-07T08:02:48.731Z"
   },
   {
    "duration": 4,
    "start_time": "2023-10-07T08:02:51.889Z"
   },
   {
    "duration": 9,
    "start_time": "2023-10-07T08:03:01.255Z"
   },
   {
    "duration": 7,
    "start_time": "2023-10-07T08:03:04.255Z"
   },
   {
    "duration": 7,
    "start_time": "2023-10-07T08:03:09.457Z"
   },
   {
    "duration": 4,
    "start_time": "2023-10-07T08:03:17.574Z"
   },
   {
    "duration": 4,
    "start_time": "2023-10-07T08:03:25.185Z"
   },
   {
    "duration": 4,
    "start_time": "2023-10-07T08:03:28.681Z"
   },
   {
    "duration": 5,
    "start_time": "2023-10-07T08:03:35.177Z"
   },
   {
    "duration": 4,
    "start_time": "2023-10-07T08:03:38.299Z"
   },
   {
    "duration": 5,
    "start_time": "2023-10-07T08:04:12.595Z"
   },
   {
    "duration": 5,
    "start_time": "2023-10-07T08:04:16.305Z"
   },
   {
    "duration": 8,
    "start_time": "2023-10-07T08:06:07.279Z"
   },
   {
    "duration": 9,
    "start_time": "2023-10-07T08:06:25.872Z"
   },
   {
    "duration": 15,
    "start_time": "2023-10-07T08:06:34.271Z"
   },
   {
    "duration": 12,
    "start_time": "2023-10-07T08:06:38.270Z"
   },
   {
    "duration": 199,
    "start_time": "2023-10-07T08:06:59.782Z"
   },
   {
    "duration": 191,
    "start_time": "2023-10-07T08:07:07.852Z"
   },
   {
    "duration": 4,
    "start_time": "2023-10-07T08:10:52.315Z"
   },
   {
    "duration": 11,
    "start_time": "2023-10-07T08:10:56.657Z"
   },
   {
    "duration": 4,
    "start_time": "2023-10-07T08:11:00.779Z"
   },
   {
    "duration": 4,
    "start_time": "2023-10-07T08:11:16.912Z"
   },
   {
    "duration": 4,
    "start_time": "2023-10-07T08:11:21.889Z"
   },
   {
    "duration": 4,
    "start_time": "2023-10-07T08:11:38.713Z"
   },
   {
    "duration": 4,
    "start_time": "2023-10-07T08:11:44.031Z"
   },
   {
    "duration": 8,
    "start_time": "2023-10-07T08:11:49.368Z"
   },
   {
    "duration": 4,
    "start_time": "2023-10-07T08:11:52.486Z"
   },
   {
    "duration": 11,
    "start_time": "2023-10-07T08:11:56.666Z"
   },
   {
    "duration": 20,
    "start_time": "2023-10-07T08:11:59.249Z"
   },
   {
    "duration": 4,
    "start_time": "2023-10-07T08:12:03.505Z"
   },
   {
    "duration": 9,
    "start_time": "2023-10-07T08:12:08.445Z"
   },
   {
    "duration": 9,
    "start_time": "2023-10-07T08:12:12.068Z"
   },
   {
    "duration": 4,
    "start_time": "2023-10-07T08:12:15.599Z"
   },
   {
    "duration": 764,
    "start_time": "2023-10-07T08:15:34.540Z"
   },
   {
    "duration": 1193,
    "start_time": "2023-10-07T08:15:45.234Z"
   },
   {
    "duration": 4,
    "start_time": "2023-10-07T08:16:11.332Z"
   },
   {
    "duration": 8,
    "start_time": "2023-10-07T08:16:30.556Z"
   },
   {
    "duration": 4,
    "start_time": "2023-10-07T08:16:39.416Z"
   },
   {
    "duration": 3,
    "start_time": "2023-10-07T08:16:50.123Z"
   },
   {
    "duration": 7,
    "start_time": "2023-10-07T08:16:54.770Z"
   },
   {
    "duration": 16,
    "start_time": "2023-10-07T08:16:59.845Z"
   },
   {
    "duration": 4,
    "start_time": "2023-10-07T08:17:17.317Z"
   },
   {
    "duration": 4,
    "start_time": "2023-10-07T08:17:23.297Z"
   },
   {
    "duration": 4,
    "start_time": "2023-10-07T08:17:29.909Z"
   },
   {
    "duration": 4,
    "start_time": "2023-10-07T08:17:38.230Z"
   },
   {
    "duration": 5,
    "start_time": "2023-10-07T08:17:42.188Z"
   },
   {
    "duration": 9,
    "start_time": "2023-10-07T08:17:47.036Z"
   },
   {
    "duration": 3,
    "start_time": "2023-10-07T08:17:54.507Z"
   },
   {
    "duration": 4,
    "start_time": "2023-10-07T08:18:20.697Z"
   },
   {
    "duration": 4,
    "start_time": "2023-10-07T08:18:25.527Z"
   },
   {
    "duration": 5,
    "start_time": "2023-10-07T08:18:31.398Z"
   },
   {
    "duration": 15,
    "start_time": "2023-10-07T08:18:39.044Z"
   },
   {
    "duration": 4,
    "start_time": "2023-10-07T08:18:43.800Z"
   },
   {
    "duration": 12,
    "start_time": "2023-10-07T08:18:57.654Z"
   },
   {
    "duration": 4,
    "start_time": "2023-10-07T08:19:02.695Z"
   },
   {
    "duration": 10,
    "start_time": "2023-10-07T08:19:11.262Z"
   },
   {
    "duration": 4,
    "start_time": "2023-10-07T08:19:15.512Z"
   },
   {
    "duration": 5,
    "start_time": "2023-10-07T08:19:19.914Z"
   },
   {
    "duration": 7,
    "start_time": "2023-10-07T08:19:24.957Z"
   },
   {
    "duration": 10,
    "start_time": "2023-10-07T08:19:29.547Z"
   },
   {
    "duration": 4,
    "start_time": "2023-10-07T08:19:36.932Z"
   },
   {
    "duration": 4,
    "start_time": "2023-10-07T08:20:46.286Z"
   },
   {
    "duration": 19,
    "start_time": "2023-10-07T08:20:52.553Z"
   },
   {
    "duration": 6,
    "start_time": "2023-10-07T08:20:57.869Z"
   },
   {
    "duration": 18,
    "start_time": "2023-10-07T08:21:05.460Z"
   },
   {
    "duration": 4,
    "start_time": "2023-10-07T08:21:21.483Z"
   },
   {
    "duration": 4,
    "start_time": "2023-10-07T08:21:27.222Z"
   },
   {
    "duration": 4,
    "start_time": "2023-10-07T08:21:50.215Z"
   },
   {
    "duration": 4,
    "start_time": "2023-10-07T08:26:37.978Z"
   },
   {
    "duration": 8,
    "start_time": "2023-10-07T08:29:58.323Z"
   },
   {
    "duration": 23,
    "start_time": "2023-10-07T08:30:39.656Z"
   },
   {
    "duration": 140,
    "start_time": "2023-10-07T08:31:40.929Z"
   },
   {
    "duration": 103,
    "start_time": "2023-10-07T08:32:30.882Z"
   },
   {
    "duration": 102,
    "start_time": "2023-10-07T08:33:43.168Z"
   },
   {
    "duration": 101,
    "start_time": "2023-10-07T08:34:01.875Z"
   },
   {
    "duration": 4,
    "start_time": "2023-10-07T08:39:30.378Z"
   },
   {
    "duration": 275,
    "start_time": "2023-10-07T08:39:32.411Z"
   },
   {
    "duration": 182,
    "start_time": "2023-10-07T08:39:53.656Z"
   },
   {
    "duration": 5,
    "start_time": "2023-10-07T08:40:14.482Z"
   },
   {
    "duration": 8231,
    "start_time": "2023-10-07T08:43:38.289Z"
   },
   {
    "duration": 935,
    "start_time": "2023-10-07T08:45:22.917Z"
   },
   {
    "duration": 33,
    "start_time": "2023-10-07T08:45:23.853Z"
   },
   {
    "duration": 11,
    "start_time": "2023-10-07T08:45:23.887Z"
   },
   {
    "duration": 9,
    "start_time": "2023-10-07T08:45:23.899Z"
   },
   {
    "duration": 129,
    "start_time": "2023-10-07T08:45:23.909Z"
   },
   {
    "duration": 32,
    "start_time": "2023-10-07T08:45:24.048Z"
   },
   {
    "duration": 8,
    "start_time": "2023-10-07T08:45:24.081Z"
   },
   {
    "duration": 14,
    "start_time": "2023-10-07T08:45:24.090Z"
   },
   {
    "duration": 109,
    "start_time": "2023-10-07T08:45:24.105Z"
   },
   {
    "duration": 100,
    "start_time": "2023-10-07T08:45:24.216Z"
   },
   {
    "duration": 15,
    "start_time": "2023-10-07T08:45:24.318Z"
   },
   {
    "duration": 12,
    "start_time": "2023-10-07T08:45:24.334Z"
   },
   {
    "duration": 25,
    "start_time": "2023-10-07T08:45:24.347Z"
   },
   {
    "duration": 21,
    "start_time": "2023-10-07T08:45:24.374Z"
   },
   {
    "duration": 11,
    "start_time": "2023-10-07T08:45:24.396Z"
   },
   {
    "duration": 9,
    "start_time": "2023-10-07T08:45:24.408Z"
   },
   {
    "duration": 6,
    "start_time": "2023-10-07T08:45:24.418Z"
   },
   {
    "duration": 23,
    "start_time": "2023-10-07T08:45:24.425Z"
   },
   {
    "duration": 157,
    "start_time": "2023-10-07T08:45:24.452Z"
   },
   {
    "duration": 89,
    "start_time": "2023-10-07T08:45:24.611Z"
   },
   {
    "duration": 233,
    "start_time": "2023-10-07T08:45:24.701Z"
   },
   {
    "duration": 165,
    "start_time": "2023-10-07T08:45:24.935Z"
   },
   {
    "duration": 178,
    "start_time": "2023-10-07T08:45:25.102Z"
   },
   {
    "duration": 23,
    "start_time": "2023-10-07T08:45:25.281Z"
   },
   {
    "duration": 12,
    "start_time": "2023-10-07T08:45:25.305Z"
   },
   {
    "duration": 9,
    "start_time": "2023-10-07T08:45:25.318Z"
   },
   {
    "duration": 70,
    "start_time": "2023-10-07T08:45:25.328Z"
   },
   {
    "duration": 8,
    "start_time": "2023-10-07T08:45:25.399Z"
   },
   {
    "duration": 175,
    "start_time": "2023-10-07T08:45:25.408Z"
   },
   {
    "duration": 196,
    "start_time": "2023-10-07T08:45:25.585Z"
   },
   {
    "duration": 156,
    "start_time": "2023-10-07T08:45:25.782Z"
   },
   {
    "duration": 186,
    "start_time": "2023-10-07T08:45:25.939Z"
   },
   {
    "duration": 864,
    "start_time": "2023-10-07T08:45:26.126Z"
   },
   {
    "duration": 2,
    "start_time": "2023-10-07T08:45:26.991Z"
   },
   {
    "duration": 25,
    "start_time": "2023-10-07T08:45:26.995Z"
   },
   {
    "duration": 3,
    "start_time": "2023-10-07T08:45:27.021Z"
   },
   {
    "duration": 156,
    "start_time": "2023-10-07T08:45:27.025Z"
   },
   {
    "duration": 10,
    "start_time": "2023-10-07T08:45:27.182Z"
   },
   {
    "duration": 15,
    "start_time": "2023-10-07T08:45:27.193Z"
   },
   {
    "duration": 4,
    "start_time": "2023-10-07T08:45:27.209Z"
   },
   {
    "duration": 277,
    "start_time": "2023-10-07T08:45:27.216Z"
   },
   {
    "duration": 0,
    "start_time": "2023-10-07T08:45:27.494Z"
   },
   {
    "duration": 0,
    "start_time": "2023-10-07T08:45:27.496Z"
   },
   {
    "duration": 0,
    "start_time": "2023-10-07T08:45:27.497Z"
   },
   {
    "duration": 0,
    "start_time": "2023-10-07T08:45:27.498Z"
   },
   {
    "duration": 0,
    "start_time": "2023-10-07T08:45:27.499Z"
   },
   {
    "duration": 930,
    "start_time": "2023-10-07T08:45:46.663Z"
   },
   {
    "duration": 28,
    "start_time": "2023-10-07T08:45:47.595Z"
   },
   {
    "duration": 10,
    "start_time": "2023-10-07T08:45:47.624Z"
   },
   {
    "duration": 42,
    "start_time": "2023-10-07T08:45:47.636Z"
   },
   {
    "duration": 129,
    "start_time": "2023-10-07T08:45:47.680Z"
   },
   {
    "duration": 24,
    "start_time": "2023-10-07T08:45:47.810Z"
   },
   {
    "duration": 42,
    "start_time": "2023-10-07T08:45:47.835Z"
   },
   {
    "duration": 12,
    "start_time": "2023-10-07T08:45:47.885Z"
   },
   {
    "duration": 125,
    "start_time": "2023-10-07T08:45:47.899Z"
   },
   {
    "duration": 158,
    "start_time": "2023-10-07T08:45:48.026Z"
   },
   {
    "duration": 16,
    "start_time": "2023-10-07T08:45:48.186Z"
   },
   {
    "duration": 15,
    "start_time": "2023-10-07T08:45:48.204Z"
   },
   {
    "duration": 9,
    "start_time": "2023-10-07T08:45:48.221Z"
   },
   {
    "duration": 32,
    "start_time": "2023-10-07T08:45:48.231Z"
   },
   {
    "duration": 11,
    "start_time": "2023-10-07T08:45:48.265Z"
   },
   {
    "duration": 22,
    "start_time": "2023-10-07T08:45:48.277Z"
   },
   {
    "duration": 11,
    "start_time": "2023-10-07T08:45:48.301Z"
   },
   {
    "duration": 6,
    "start_time": "2023-10-07T08:45:48.313Z"
   },
   {
    "duration": 164,
    "start_time": "2023-10-07T08:45:48.321Z"
   },
   {
    "duration": 109,
    "start_time": "2023-10-07T08:45:48.486Z"
   },
   {
    "duration": 235,
    "start_time": "2023-10-07T08:45:48.597Z"
   },
   {
    "duration": 177,
    "start_time": "2023-10-07T08:45:48.839Z"
   },
   {
    "duration": 169,
    "start_time": "2023-10-07T08:45:49.017Z"
   },
   {
    "duration": 22,
    "start_time": "2023-10-07T08:45:49.188Z"
   },
   {
    "duration": 14,
    "start_time": "2023-10-07T08:45:49.211Z"
   },
   {
    "duration": 38,
    "start_time": "2023-10-07T08:45:49.226Z"
   },
   {
    "duration": 55,
    "start_time": "2023-10-07T08:45:49.276Z"
   },
   {
    "duration": 30,
    "start_time": "2023-10-07T08:45:49.333Z"
   },
   {
    "duration": 177,
    "start_time": "2023-10-07T08:45:49.380Z"
   },
   {
    "duration": 210,
    "start_time": "2023-10-07T08:45:49.558Z"
   },
   {
    "duration": 208,
    "start_time": "2023-10-07T08:45:49.771Z"
   },
   {
    "duration": 203,
    "start_time": "2023-10-07T08:45:49.985Z"
   },
   {
    "duration": 881,
    "start_time": "2023-10-07T08:45:50.189Z"
   },
   {
    "duration": 3,
    "start_time": "2023-10-07T08:45:51.085Z"
   },
   {
    "duration": 29,
    "start_time": "2023-10-07T08:45:51.090Z"
   },
   {
    "duration": 3,
    "start_time": "2023-10-07T08:45:51.121Z"
   },
   {
    "duration": 155,
    "start_time": "2023-10-07T08:45:51.125Z"
   },
   {
    "duration": 10,
    "start_time": "2023-10-07T08:45:51.286Z"
   },
   {
    "duration": 8,
    "start_time": "2023-10-07T08:45:51.297Z"
   },
   {
    "duration": 12,
    "start_time": "2023-10-07T08:45:51.306Z"
   },
   {
    "duration": 101,
    "start_time": "2023-10-07T08:45:51.320Z"
   },
   {
    "duration": 0,
    "start_time": "2023-10-07T08:45:51.422Z"
   },
   {
    "duration": 0,
    "start_time": "2023-10-07T08:45:51.423Z"
   },
   {
    "duration": 0,
    "start_time": "2023-10-07T08:45:51.424Z"
   },
   {
    "duration": 0,
    "start_time": "2023-10-07T08:45:51.425Z"
   },
   {
    "duration": 0,
    "start_time": "2023-10-07T08:45:51.426Z"
   },
   {
    "duration": 6,
    "start_time": "2023-10-07T08:46:10.776Z"
   },
   {
    "duration": 13,
    "start_time": "2023-10-07T08:46:13.957Z"
   },
   {
    "duration": 1188,
    "start_time": "2023-10-07T08:46:17.886Z"
   },
   {
    "duration": 4,
    "start_time": "2023-10-07T08:46:21.906Z"
   },
   {
    "duration": 6,
    "start_time": "2023-10-07T08:46:23.618Z"
   },
   {
    "duration": 8149,
    "start_time": "2023-10-07T08:46:27.336Z"
   },
   {
    "duration": 7869,
    "start_time": "2023-10-07T08:48:52.790Z"
   },
   {
    "duration": 23,
    "start_time": "2023-10-07T08:49:04.845Z"
   },
   {
    "duration": 3193,
    "start_time": "2023-10-07T08:49:15.775Z"
   },
   {
    "duration": 8359,
    "start_time": "2023-10-07T08:49:41.313Z"
   },
   {
    "duration": 980,
    "start_time": "2023-10-07T09:10:11.609Z"
   },
   {
    "duration": 29,
    "start_time": "2023-10-07T09:10:12.592Z"
   },
   {
    "duration": 15,
    "start_time": "2023-10-07T09:10:12.623Z"
   },
   {
    "duration": 27,
    "start_time": "2023-10-07T09:10:12.639Z"
   },
   {
    "duration": 193,
    "start_time": "2023-10-07T09:10:12.667Z"
   },
   {
    "duration": 24,
    "start_time": "2023-10-07T09:10:12.872Z"
   },
   {
    "duration": 55,
    "start_time": "2023-10-07T09:10:12.897Z"
   },
   {
    "duration": 35,
    "start_time": "2023-10-07T09:10:12.953Z"
   },
   {
    "duration": 192,
    "start_time": "2023-10-07T09:10:12.990Z"
   },
   {
    "duration": 113,
    "start_time": "2023-10-07T09:10:13.187Z"
   },
   {
    "duration": 15,
    "start_time": "2023-10-07T09:10:13.301Z"
   },
   {
    "duration": 6,
    "start_time": "2023-10-07T09:10:13.317Z"
   },
   {
    "duration": 12,
    "start_time": "2023-10-07T09:10:13.324Z"
   },
   {
    "duration": 30,
    "start_time": "2023-10-07T09:10:13.338Z"
   },
   {
    "duration": 4,
    "start_time": "2023-10-07T09:10:13.369Z"
   },
   {
    "duration": 15,
    "start_time": "2023-10-07T09:10:13.374Z"
   },
   {
    "duration": 13,
    "start_time": "2023-10-07T09:10:13.391Z"
   },
   {
    "duration": 6,
    "start_time": "2023-10-07T09:10:13.406Z"
   },
   {
    "duration": 176,
    "start_time": "2023-10-07T09:10:13.414Z"
   },
   {
    "duration": 91,
    "start_time": "2023-10-07T09:10:13.592Z"
   },
   {
    "duration": 263,
    "start_time": "2023-10-07T09:10:13.685Z"
   },
   {
    "duration": 158,
    "start_time": "2023-10-07T09:10:13.957Z"
   },
   {
    "duration": 181,
    "start_time": "2023-10-07T09:10:14.117Z"
   },
   {
    "duration": 26,
    "start_time": "2023-10-07T09:10:14.299Z"
   },
   {
    "duration": 30,
    "start_time": "2023-10-07T09:10:14.327Z"
   },
   {
    "duration": 17,
    "start_time": "2023-10-07T09:10:14.359Z"
   },
   {
    "duration": 56,
    "start_time": "2023-10-07T09:10:14.377Z"
   },
   {
    "duration": 28,
    "start_time": "2023-10-07T09:10:14.442Z"
   },
   {
    "duration": 167,
    "start_time": "2023-10-07T09:10:14.480Z"
   },
   {
    "duration": 165,
    "start_time": "2023-10-07T09:10:14.648Z"
   },
   {
    "duration": 171,
    "start_time": "2023-10-07T09:10:14.814Z"
   },
   {
    "duration": 195,
    "start_time": "2023-10-07T09:10:14.986Z"
   },
   {
    "duration": 895,
    "start_time": "2023-10-07T09:10:15.182Z"
   },
   {
    "duration": 4,
    "start_time": "2023-10-07T09:10:16.078Z"
   },
   {
    "duration": 23,
    "start_time": "2023-10-07T09:10:16.083Z"
   },
   {
    "duration": 18,
    "start_time": "2023-10-07T09:10:16.107Z"
   },
   {
    "duration": 163,
    "start_time": "2023-10-07T09:10:16.126Z"
   },
   {
    "duration": 10,
    "start_time": "2023-10-07T09:10:16.290Z"
   },
   {
    "duration": 24,
    "start_time": "2023-10-07T09:10:16.301Z"
   },
   {
    "duration": 7,
    "start_time": "2023-10-07T09:10:16.326Z"
   },
   {
    "duration": 6,
    "start_time": "2023-10-07T09:10:16.334Z"
   },
   {
    "duration": 27,
    "start_time": "2023-10-07T09:10:16.352Z"
   },
   {
    "duration": 1151,
    "start_time": "2023-10-07T09:10:16.382Z"
   },
   {
    "duration": 4,
    "start_time": "2023-10-07T09:10:17.534Z"
   },
   {
    "duration": 11,
    "start_time": "2023-10-07T09:10:17.539Z"
   },
   {
    "duration": 8108,
    "start_time": "2023-10-07T09:10:17.560Z"
   },
   {
    "duration": 925,
    "start_time": "2023-10-07T09:31:29.214Z"
   },
   {
    "duration": 28,
    "start_time": "2023-10-07T09:31:30.153Z"
   },
   {
    "duration": 61,
    "start_time": "2023-10-07T09:31:30.183Z"
   },
   {
    "duration": 50,
    "start_time": "2023-10-07T09:31:30.247Z"
   },
   {
    "duration": 182,
    "start_time": "2023-10-07T09:31:30.298Z"
   },
   {
    "duration": 28,
    "start_time": "2023-10-07T09:31:30.481Z"
   },
   {
    "duration": 11,
    "start_time": "2023-10-07T09:31:30.519Z"
   },
   {
    "duration": 39,
    "start_time": "2023-10-07T09:31:30.531Z"
   },
   {
    "duration": 152,
    "start_time": "2023-10-07T09:31:30.571Z"
   },
   {
    "duration": 134,
    "start_time": "2023-10-07T09:31:30.726Z"
   },
   {
    "duration": 17,
    "start_time": "2023-10-07T09:31:30.871Z"
   },
   {
    "duration": 27,
    "start_time": "2023-10-07T09:31:30.889Z"
   },
   {
    "duration": 61,
    "start_time": "2023-10-07T09:31:30.917Z"
   },
   {
    "duration": 24,
    "start_time": "2023-10-07T09:31:30.979Z"
   },
   {
    "duration": 63,
    "start_time": "2023-10-07T09:31:31.005Z"
   },
   {
    "duration": 30,
    "start_time": "2023-10-07T09:31:31.081Z"
   },
   {
    "duration": 68,
    "start_time": "2023-10-07T09:31:31.113Z"
   },
   {
    "duration": 36,
    "start_time": "2023-10-07T09:31:31.183Z"
   },
   {
    "duration": 179,
    "start_time": "2023-10-07T09:31:31.220Z"
   },
   {
    "duration": 112,
    "start_time": "2023-10-07T09:31:31.401Z"
   },
   {
    "duration": 255,
    "start_time": "2023-10-07T09:31:31.514Z"
   },
   {
    "duration": 160,
    "start_time": "2023-10-07T09:31:31.770Z"
   },
   {
    "duration": 153,
    "start_time": "2023-10-07T09:31:31.931Z"
   },
   {
    "duration": 22,
    "start_time": "2023-10-07T09:31:32.085Z"
   },
   {
    "duration": 20,
    "start_time": "2023-10-07T09:31:32.108Z"
   },
   {
    "duration": 40,
    "start_time": "2023-10-07T09:31:32.129Z"
   },
   {
    "duration": 60,
    "start_time": "2023-10-07T09:31:32.170Z"
   },
   {
    "duration": 44,
    "start_time": "2023-10-07T09:31:32.233Z"
   },
   {
    "duration": 203,
    "start_time": "2023-10-07T09:31:32.285Z"
   },
   {
    "duration": 207,
    "start_time": "2023-10-07T09:31:32.490Z"
   },
   {
    "duration": 206,
    "start_time": "2023-10-07T09:31:32.699Z"
   },
   {
    "duration": 183,
    "start_time": "2023-10-07T09:31:32.906Z"
   },
   {
    "duration": 816,
    "start_time": "2023-10-07T09:31:33.091Z"
   },
   {
    "duration": 3,
    "start_time": "2023-10-07T09:31:33.908Z"
   },
   {
    "duration": 11,
    "start_time": "2023-10-07T09:31:33.912Z"
   },
   {
    "duration": 9,
    "start_time": "2023-10-07T09:31:33.925Z"
   },
   {
    "duration": 165,
    "start_time": "2023-10-07T09:31:33.939Z"
   },
   {
    "duration": 10,
    "start_time": "2023-10-07T09:31:34.105Z"
   },
   {
    "duration": 10,
    "start_time": "2023-10-07T09:31:34.116Z"
   },
   {
    "duration": 6,
    "start_time": "2023-10-07T09:31:34.127Z"
   },
   {
    "duration": 17,
    "start_time": "2023-10-07T09:31:34.139Z"
   },
   {
    "duration": 20,
    "start_time": "2023-10-07T09:31:34.157Z"
   },
   {
    "duration": 1171,
    "start_time": "2023-10-07T09:31:34.181Z"
   },
   {
    "duration": 9,
    "start_time": "2023-10-07T09:31:35.353Z"
   },
   {
    "duration": 23,
    "start_time": "2023-10-07T09:31:35.363Z"
   },
   {
    "duration": 9385,
    "start_time": "2023-10-07T09:31:35.387Z"
   },
   {
    "duration": 1108,
    "start_time": "2023-10-07T13:24:54.568Z"
   },
   {
    "duration": 79,
    "start_time": "2023-10-07T13:24:55.689Z"
   },
   {
    "duration": 15,
    "start_time": "2023-10-07T13:24:55.769Z"
   },
   {
    "duration": 50,
    "start_time": "2023-10-07T13:24:55.785Z"
   },
   {
    "duration": 179,
    "start_time": "2023-10-07T13:24:55.836Z"
   },
   {
    "duration": 82,
    "start_time": "2023-10-07T13:24:56.016Z"
   },
   {
    "duration": 14,
    "start_time": "2023-10-07T13:24:56.099Z"
   },
   {
    "duration": 366,
    "start_time": "2023-10-07T13:24:56.114Z"
   },
   {
    "duration": 122,
    "start_time": "2023-10-07T13:24:56.481Z"
   },
   {
    "duration": 103,
    "start_time": "2023-10-07T13:24:56.606Z"
   },
   {
    "duration": 71,
    "start_time": "2023-10-07T13:24:56.710Z"
   },
   {
    "duration": 7,
    "start_time": "2023-10-07T13:24:56.782Z"
   },
   {
    "duration": 24,
    "start_time": "2023-10-07T13:24:56.790Z"
   },
   {
    "duration": 9,
    "start_time": "2023-10-07T13:24:56.814Z"
   },
   {
    "duration": 3,
    "start_time": "2023-10-07T13:24:56.824Z"
   },
   {
    "duration": 7,
    "start_time": "2023-10-07T13:24:56.828Z"
   },
   {
    "duration": 39,
    "start_time": "2023-10-07T13:24:56.836Z"
   },
   {
    "duration": 11,
    "start_time": "2023-10-07T13:24:56.876Z"
   },
   {
    "duration": 143,
    "start_time": "2023-10-07T13:24:56.888Z"
   },
   {
    "duration": 92,
    "start_time": "2023-10-07T13:24:57.033Z"
   },
   {
    "duration": 250,
    "start_time": "2023-10-07T13:24:57.126Z"
   },
   {
    "duration": 159,
    "start_time": "2023-10-07T13:24:57.377Z"
   },
   {
    "duration": 174,
    "start_time": "2023-10-07T13:24:57.537Z"
   },
   {
    "duration": 20,
    "start_time": "2023-10-07T13:24:57.713Z"
   },
   {
    "duration": 35,
    "start_time": "2023-10-07T13:24:57.735Z"
   },
   {
    "duration": 10,
    "start_time": "2023-10-07T13:24:57.784Z"
   },
   {
    "duration": 78,
    "start_time": "2023-10-07T13:24:57.795Z"
   },
   {
    "duration": 14,
    "start_time": "2023-10-07T13:24:57.879Z"
   },
   {
    "duration": 174,
    "start_time": "2023-10-07T13:24:57.895Z"
   },
   {
    "duration": 176,
    "start_time": "2023-10-07T13:24:58.071Z"
   },
   {
    "duration": 166,
    "start_time": "2023-10-07T13:24:58.248Z"
   },
   {
    "duration": 193,
    "start_time": "2023-10-07T13:24:58.415Z"
   },
   {
    "duration": 896,
    "start_time": "2023-10-07T13:24:58.609Z"
   },
   {
    "duration": 2,
    "start_time": "2023-10-07T13:24:59.507Z"
   },
   {
    "duration": 15,
    "start_time": "2023-10-07T13:24:59.511Z"
   },
   {
    "duration": 3,
    "start_time": "2023-10-07T13:24:59.528Z"
   },
   {
    "duration": 189,
    "start_time": "2023-10-07T13:24:59.532Z"
   },
   {
    "duration": 9,
    "start_time": "2023-10-07T13:24:59.723Z"
   },
   {
    "duration": 39,
    "start_time": "2023-10-07T13:24:59.733Z"
   },
   {
    "duration": 9,
    "start_time": "2023-10-07T13:24:59.778Z"
   },
   {
    "duration": 6,
    "start_time": "2023-10-07T13:24:59.788Z"
   },
   {
    "duration": 8,
    "start_time": "2023-10-07T13:24:59.795Z"
   },
   {
    "duration": 1277,
    "start_time": "2023-10-07T13:24:59.804Z"
   },
   {
    "duration": 5,
    "start_time": "2023-10-07T13:25:01.085Z"
   },
   {
    "duration": 37,
    "start_time": "2023-10-07T13:25:01.092Z"
   },
   {
    "duration": 8545,
    "start_time": "2023-10-07T13:25:01.130Z"
   },
   {
    "duration": 10,
    "start_time": "2023-10-07T13:45:26.188Z"
   },
   {
    "duration": 11,
    "start_time": "2023-10-07T13:46:45.273Z"
   },
   {
    "duration": 69,
    "start_time": "2023-10-07T14:03:59.873Z"
   },
   {
    "duration": 1307,
    "start_time": "2023-10-07T14:04:11.100Z"
   },
   {
    "duration": 118,
    "start_time": "2023-10-07T14:04:12.409Z"
   },
   {
    "duration": 14,
    "start_time": "2023-10-07T14:04:12.529Z"
   },
   {
    "duration": 25,
    "start_time": "2023-10-07T14:04:12.549Z"
   },
   {
    "duration": 176,
    "start_time": "2023-10-07T14:04:12.577Z"
   },
   {
    "duration": 437,
    "start_time": "2023-10-07T14:04:12.759Z"
   },
   {
    "duration": 10,
    "start_time": "2023-10-07T14:04:13.198Z"
   },
   {
    "duration": 30,
    "start_time": "2023-10-07T14:04:13.209Z"
   },
   {
    "duration": 153,
    "start_time": "2023-10-07T14:04:13.241Z"
   },
   {
    "duration": 145,
    "start_time": "2023-10-07T14:04:13.396Z"
   },
   {
    "duration": 93,
    "start_time": "2023-10-07T14:04:13.543Z"
   },
   {
    "duration": 9,
    "start_time": "2023-10-07T14:04:13.638Z"
   },
   {
    "duration": 18,
    "start_time": "2023-10-07T14:04:13.648Z"
   },
   {
    "duration": 13,
    "start_time": "2023-10-07T14:04:13.670Z"
   },
   {
    "duration": 16,
    "start_time": "2023-10-07T14:04:13.685Z"
   },
   {
    "duration": 19,
    "start_time": "2023-10-07T14:04:13.702Z"
   },
   {
    "duration": 20,
    "start_time": "2023-10-07T14:04:13.722Z"
   },
   {
    "duration": 26,
    "start_time": "2023-10-07T14:04:13.744Z"
   },
   {
    "duration": 107,
    "start_time": "2023-10-07T14:04:13.772Z"
   },
   {
    "duration": 0,
    "start_time": "2023-10-07T14:04:13.882Z"
   },
   {
    "duration": 0,
    "start_time": "2023-10-07T14:04:13.883Z"
   },
   {
    "duration": 0,
    "start_time": "2023-10-07T14:04:13.884Z"
   },
   {
    "duration": 0,
    "start_time": "2023-10-07T14:04:13.885Z"
   },
   {
    "duration": 0,
    "start_time": "2023-10-07T14:04:13.886Z"
   },
   {
    "duration": 0,
    "start_time": "2023-10-07T14:04:13.887Z"
   },
   {
    "duration": 0,
    "start_time": "2023-10-07T14:04:13.888Z"
   },
   {
    "duration": 0,
    "start_time": "2023-10-07T14:04:13.889Z"
   },
   {
    "duration": 0,
    "start_time": "2023-10-07T14:04:13.890Z"
   },
   {
    "duration": 0,
    "start_time": "2023-10-07T14:04:13.891Z"
   },
   {
    "duration": 0,
    "start_time": "2023-10-07T14:04:13.892Z"
   },
   {
    "duration": 0,
    "start_time": "2023-10-07T14:04:13.893Z"
   },
   {
    "duration": 0,
    "start_time": "2023-10-07T14:04:13.894Z"
   },
   {
    "duration": 0,
    "start_time": "2023-10-07T14:04:13.895Z"
   },
   {
    "duration": 0,
    "start_time": "2023-10-07T14:04:13.897Z"
   },
   {
    "duration": 0,
    "start_time": "2023-10-07T14:04:13.898Z"
   },
   {
    "duration": 0,
    "start_time": "2023-10-07T14:04:13.899Z"
   },
   {
    "duration": 0,
    "start_time": "2023-10-07T14:04:13.900Z"
   },
   {
    "duration": 0,
    "start_time": "2023-10-07T14:04:13.901Z"
   },
   {
    "duration": 0,
    "start_time": "2023-10-07T14:04:13.902Z"
   },
   {
    "duration": 0,
    "start_time": "2023-10-07T14:04:13.903Z"
   },
   {
    "duration": 0,
    "start_time": "2023-10-07T14:04:13.904Z"
   },
   {
    "duration": 0,
    "start_time": "2023-10-07T14:04:13.945Z"
   },
   {
    "duration": 0,
    "start_time": "2023-10-07T14:04:13.946Z"
   },
   {
    "duration": 0,
    "start_time": "2023-10-07T14:04:13.953Z"
   },
   {
    "duration": 0,
    "start_time": "2023-10-07T14:04:13.954Z"
   },
   {
    "duration": 0,
    "start_time": "2023-10-07T14:04:13.954Z"
   },
   {
    "duration": 0,
    "start_time": "2023-10-07T14:04:13.955Z"
   },
   {
    "duration": 10,
    "start_time": "2023-10-07T14:04:56.276Z"
   },
   {
    "duration": 7,
    "start_time": "2023-10-07T14:06:38.183Z"
   },
   {
    "duration": 4,
    "start_time": "2023-10-07T14:07:35.089Z"
   },
   {
    "duration": 4,
    "start_time": "2023-10-07T14:08:02.029Z"
   },
   {
    "duration": 4,
    "start_time": "2023-10-07T14:08:13.319Z"
   },
   {
    "duration": 5,
    "start_time": "2023-10-07T14:10:22.018Z"
   },
   {
    "duration": 10,
    "start_time": "2023-10-07T14:13:05.241Z"
   },
   {
    "duration": 1229,
    "start_time": "2023-10-07T14:18:36.585Z"
   },
   {
    "duration": 31,
    "start_time": "2023-10-07T14:18:37.817Z"
   },
   {
    "duration": 42,
    "start_time": "2023-10-07T14:18:37.850Z"
   },
   {
    "duration": 24,
    "start_time": "2023-10-07T14:18:37.894Z"
   },
   {
    "duration": 200,
    "start_time": "2023-10-07T14:18:37.921Z"
   },
   {
    "duration": 50,
    "start_time": "2023-10-07T14:18:38.124Z"
   },
   {
    "duration": 10,
    "start_time": "2023-10-07T14:18:38.181Z"
   },
   {
    "duration": 16,
    "start_time": "2023-10-07T14:18:38.193Z"
   },
   {
    "duration": 154,
    "start_time": "2023-10-07T14:18:38.210Z"
   },
   {
    "duration": 137,
    "start_time": "2023-10-07T14:18:38.368Z"
   },
   {
    "duration": 17,
    "start_time": "2023-10-07T14:18:38.508Z"
   },
   {
    "duration": 10,
    "start_time": "2023-10-07T14:18:38.527Z"
   },
   {
    "duration": 29,
    "start_time": "2023-10-07T14:18:38.545Z"
   },
   {
    "duration": 12,
    "start_time": "2023-10-07T14:18:38.578Z"
   },
   {
    "duration": 5,
    "start_time": "2023-10-07T14:18:38.592Z"
   },
   {
    "duration": 20,
    "start_time": "2023-10-07T14:18:38.599Z"
   },
   {
    "duration": 34,
    "start_time": "2023-10-07T14:18:38.621Z"
   },
   {
    "duration": 11,
    "start_time": "2023-10-07T14:18:38.661Z"
   },
   {
    "duration": 11,
    "start_time": "2023-10-07T14:18:38.674Z"
   },
   {
    "duration": 7,
    "start_time": "2023-10-07T14:18:38.687Z"
   },
   {
    "duration": 212,
    "start_time": "2023-10-07T14:18:38.696Z"
   },
   {
    "duration": 106,
    "start_time": "2023-10-07T14:18:38.910Z"
   },
   {
    "duration": 342,
    "start_time": "2023-10-07T14:18:39.018Z"
   },
   {
    "duration": 198,
    "start_time": "2023-10-07T14:18:39.366Z"
   },
   {
    "duration": 198,
    "start_time": "2023-10-07T14:18:39.572Z"
   },
   {
    "duration": 32,
    "start_time": "2023-10-07T14:18:39.771Z"
   },
   {
    "duration": 16,
    "start_time": "2023-10-07T14:18:39.804Z"
   },
   {
    "duration": 57,
    "start_time": "2023-10-07T14:18:39.822Z"
   },
   {
    "duration": 121,
    "start_time": "2023-10-07T14:18:39.881Z"
   },
   {
    "duration": 13,
    "start_time": "2023-10-07T14:18:40.004Z"
   },
   {
    "duration": 282,
    "start_time": "2023-10-07T14:18:40.018Z"
   },
   {
    "duration": 214,
    "start_time": "2023-10-07T14:18:40.302Z"
   },
   {
    "duration": 209,
    "start_time": "2023-10-07T14:18:40.517Z"
   },
   {
    "duration": 256,
    "start_time": "2023-10-07T14:18:40.728Z"
   },
   {
    "duration": 944,
    "start_time": "2023-10-07T14:18:40.986Z"
   },
   {
    "duration": 4,
    "start_time": "2023-10-07T14:18:41.932Z"
   },
   {
    "duration": 45,
    "start_time": "2023-10-07T14:18:41.937Z"
   },
   {
    "duration": 12,
    "start_time": "2023-10-07T14:18:41.983Z"
   },
   {
    "duration": 159,
    "start_time": "2023-10-07T14:18:41.997Z"
   },
   {
    "duration": 21,
    "start_time": "2023-10-07T14:18:42.163Z"
   },
   {
    "duration": 21,
    "start_time": "2023-10-07T14:18:42.188Z"
   },
   {
    "duration": 28,
    "start_time": "2023-10-07T14:18:42.212Z"
   },
   {
    "duration": 27,
    "start_time": "2023-10-07T14:18:42.242Z"
   },
   {
    "duration": 22,
    "start_time": "2023-10-07T14:18:42.271Z"
   },
   {
    "duration": 1631,
    "start_time": "2023-10-07T14:18:42.294Z"
   },
   {
    "duration": 7,
    "start_time": "2023-10-07T14:18:43.928Z"
   },
   {
    "duration": 6,
    "start_time": "2023-10-07T14:18:43.949Z"
   },
   {
    "duration": 11889,
    "start_time": "2023-10-07T14:18:43.957Z"
   },
   {
    "duration": 435,
    "start_time": "2023-10-07T14:21:52.866Z"
   },
   {
    "duration": 208,
    "start_time": "2023-10-07T14:22:08.470Z"
   },
   {
    "duration": 227,
    "start_time": "2023-10-07T14:22:49.071Z"
   },
   {
    "duration": 198,
    "start_time": "2023-10-07T14:24:12.573Z"
   },
   {
    "duration": 185,
    "start_time": "2023-10-07T14:24:19.928Z"
   },
   {
    "duration": 186,
    "start_time": "2023-10-07T14:24:29.368Z"
   },
   {
    "duration": 204,
    "start_time": "2023-10-07T14:24:45.886Z"
   },
   {
    "duration": 236,
    "start_time": "2023-10-07T14:24:54.398Z"
   },
   {
    "duration": 185,
    "start_time": "2023-10-07T14:26:52.416Z"
   },
   {
    "duration": 190,
    "start_time": "2023-10-07T14:26:57.239Z"
   },
   {
    "duration": 5,
    "start_time": "2023-10-07T14:32:20.672Z"
   },
   {
    "duration": 5,
    "start_time": "2023-10-07T14:34:11.973Z"
   },
   {
    "duration": 9,
    "start_time": "2023-10-07T14:36:49.621Z"
   },
   {
    "duration": 11,
    "start_time": "2023-10-07T14:37:56.079Z"
   },
   {
    "duration": 12,
    "start_time": "2023-10-07T14:38:44.099Z"
   },
   {
    "duration": 5,
    "start_time": "2023-10-07T14:41:12.177Z"
   },
   {
    "duration": 5,
    "start_time": "2023-10-07T14:42:22.876Z"
   },
   {
    "duration": 1201,
    "start_time": "2023-10-07T14:51:01.914Z"
   },
   {
    "duration": 28,
    "start_time": "2023-10-07T14:51:03.117Z"
   },
   {
    "duration": 15,
    "start_time": "2023-10-07T14:51:03.147Z"
   },
   {
    "duration": 13,
    "start_time": "2023-10-07T14:51:03.163Z"
   },
   {
    "duration": 163,
    "start_time": "2023-10-07T14:51:03.178Z"
   },
   {
    "duration": 28,
    "start_time": "2023-10-07T14:51:03.343Z"
   },
   {
    "duration": 9,
    "start_time": "2023-10-07T14:51:03.373Z"
   },
   {
    "duration": 18,
    "start_time": "2023-10-07T14:51:03.384Z"
   },
   {
    "duration": 129,
    "start_time": "2023-10-07T14:51:03.404Z"
   },
   {
    "duration": 132,
    "start_time": "2023-10-07T14:51:03.535Z"
   },
   {
    "duration": 15,
    "start_time": "2023-10-07T14:51:03.669Z"
   },
   {
    "duration": 7,
    "start_time": "2023-10-07T14:51:03.685Z"
   },
   {
    "duration": 13,
    "start_time": "2023-10-07T14:51:03.694Z"
   },
   {
    "duration": 6,
    "start_time": "2023-10-07T14:51:03.710Z"
   },
   {
    "duration": 21,
    "start_time": "2023-10-07T14:51:03.717Z"
   },
   {
    "duration": 29,
    "start_time": "2023-10-07T14:51:03.739Z"
   },
   {
    "duration": 11,
    "start_time": "2023-10-07T14:51:03.770Z"
   },
   {
    "duration": 22,
    "start_time": "2023-10-07T14:51:03.783Z"
   },
   {
    "duration": 6,
    "start_time": "2023-10-07T14:51:03.806Z"
   },
   {
    "duration": 4,
    "start_time": "2023-10-07T14:51:03.813Z"
   },
   {
    "duration": 176,
    "start_time": "2023-10-07T14:51:03.819Z"
   },
   {
    "duration": 124,
    "start_time": "2023-10-07T14:51:03.997Z"
   },
   {
    "duration": 239,
    "start_time": "2023-10-07T14:51:04.125Z"
   },
   {
    "duration": 176,
    "start_time": "2023-10-07T14:51:04.365Z"
   },
   {
    "duration": 170,
    "start_time": "2023-10-07T14:51:04.543Z"
   },
   {
    "duration": 36,
    "start_time": "2023-10-07T14:51:04.715Z"
   },
   {
    "duration": 9,
    "start_time": "2023-10-07T14:51:04.753Z"
   },
   {
    "duration": 28,
    "start_time": "2023-10-07T14:51:04.763Z"
   },
   {
    "duration": 21,
    "start_time": "2023-10-07T14:51:04.792Z"
   },
   {
    "duration": 24,
    "start_time": "2023-10-07T14:51:04.815Z"
   },
   {
    "duration": 38,
    "start_time": "2023-10-07T14:51:04.841Z"
   },
   {
    "duration": 222,
    "start_time": "2023-10-07T14:51:04.881Z"
   },
   {
    "duration": 273,
    "start_time": "2023-10-07T14:51:05.105Z"
   },
   {
    "duration": 179,
    "start_time": "2023-10-07T14:51:05.381Z"
   },
   {
    "duration": 190,
    "start_time": "2023-10-07T14:51:05.561Z"
   },
   {
    "duration": 791,
    "start_time": "2023-10-07T14:51:05.753Z"
   },
   {
    "duration": 3,
    "start_time": "2023-10-07T14:51:06.546Z"
   },
   {
    "duration": 24,
    "start_time": "2023-10-07T14:51:06.551Z"
   },
   {
    "duration": 17,
    "start_time": "2023-10-07T14:51:06.576Z"
   },
   {
    "duration": 148,
    "start_time": "2023-10-07T14:51:06.594Z"
   },
   {
    "duration": 11,
    "start_time": "2023-10-07T14:51:06.746Z"
   },
   {
    "duration": 40,
    "start_time": "2023-10-07T14:51:06.758Z"
   },
   {
    "duration": 26,
    "start_time": "2023-10-07T14:51:06.800Z"
   },
   {
    "duration": 42,
    "start_time": "2023-10-07T14:51:06.827Z"
   },
   {
    "duration": 32,
    "start_time": "2023-10-07T14:51:06.871Z"
   },
   {
    "duration": 1425,
    "start_time": "2023-10-07T14:51:06.906Z"
   },
   {
    "duration": 5,
    "start_time": "2023-10-07T14:51:08.332Z"
   },
   {
    "duration": 4,
    "start_time": "2023-10-07T14:51:08.345Z"
   },
   {
    "duration": 10164,
    "start_time": "2023-10-07T14:51:08.351Z"
   },
   {
    "duration": 1104,
    "start_time": "2023-10-07T14:57:37.877Z"
   },
   {
    "duration": 31,
    "start_time": "2023-10-07T14:57:38.983Z"
   },
   {
    "duration": 14,
    "start_time": "2023-10-07T14:57:39.016Z"
   },
   {
    "duration": 11,
    "start_time": "2023-10-07T14:57:39.032Z"
   },
   {
    "duration": 142,
    "start_time": "2023-10-07T14:57:39.045Z"
   },
   {
    "duration": 29,
    "start_time": "2023-10-07T14:57:39.189Z"
   },
   {
    "duration": 9,
    "start_time": "2023-10-07T14:57:39.220Z"
   },
   {
    "duration": 20,
    "start_time": "2023-10-07T14:57:39.231Z"
   },
   {
    "duration": 127,
    "start_time": "2023-10-07T14:57:39.253Z"
   },
   {
    "duration": 138,
    "start_time": "2023-10-07T14:57:39.383Z"
   },
   {
    "duration": 15,
    "start_time": "2023-10-07T14:57:39.523Z"
   },
   {
    "duration": 7,
    "start_time": "2023-10-07T14:57:39.539Z"
   },
   {
    "duration": 11,
    "start_time": "2023-10-07T14:57:39.548Z"
   },
   {
    "duration": 8,
    "start_time": "2023-10-07T14:57:39.561Z"
   },
   {
    "duration": 6,
    "start_time": "2023-10-07T14:57:39.570Z"
   },
   {
    "duration": 5,
    "start_time": "2023-10-07T14:57:39.578Z"
   },
   {
    "duration": 14,
    "start_time": "2023-10-07T14:57:39.585Z"
   },
   {
    "duration": 7,
    "start_time": "2023-10-07T14:57:39.600Z"
   },
   {
    "duration": 6,
    "start_time": "2023-10-07T14:57:39.608Z"
   },
   {
    "duration": 6,
    "start_time": "2023-10-07T14:57:39.643Z"
   },
   {
    "duration": 162,
    "start_time": "2023-10-07T14:57:39.650Z"
   },
   {
    "duration": 110,
    "start_time": "2023-10-07T14:57:39.814Z"
   },
   {
    "duration": 186,
    "start_time": "2023-10-07T14:57:39.925Z"
   },
   {
    "duration": 185,
    "start_time": "2023-10-07T14:57:40.113Z"
   },
   {
    "duration": 172,
    "start_time": "2023-10-07T14:57:40.300Z"
   },
   {
    "duration": 28,
    "start_time": "2023-10-07T14:57:40.473Z"
   },
   {
    "duration": 9,
    "start_time": "2023-10-07T14:57:40.502Z"
   },
   {
    "duration": 35,
    "start_time": "2023-10-07T14:57:40.513Z"
   },
   {
    "duration": 11,
    "start_time": "2023-10-07T14:57:40.550Z"
   },
   {
    "duration": 13,
    "start_time": "2023-10-07T14:57:40.563Z"
   },
   {
    "duration": 12,
    "start_time": "2023-10-07T14:57:40.577Z"
   },
   {
    "duration": 211,
    "start_time": "2023-10-07T14:57:40.590Z"
   },
   {
    "duration": 260,
    "start_time": "2023-10-07T14:57:40.803Z"
   },
   {
    "duration": 176,
    "start_time": "2023-10-07T14:57:41.065Z"
   },
   {
    "duration": 186,
    "start_time": "2023-10-07T14:57:41.245Z"
   },
   {
    "duration": 823,
    "start_time": "2023-10-07T14:57:41.433Z"
   },
   {
    "duration": 4,
    "start_time": "2023-10-07T14:57:42.257Z"
   },
   {
    "duration": 12,
    "start_time": "2023-10-07T14:57:42.262Z"
   },
   {
    "duration": 3,
    "start_time": "2023-10-07T14:57:42.275Z"
   },
   {
    "duration": 155,
    "start_time": "2023-10-07T14:57:42.280Z"
   },
   {
    "duration": 15,
    "start_time": "2023-10-07T14:57:42.437Z"
   },
   {
    "duration": 15,
    "start_time": "2023-10-07T14:57:42.453Z"
   },
   {
    "duration": 20,
    "start_time": "2023-10-07T14:57:42.470Z"
   },
   {
    "duration": 8,
    "start_time": "2023-10-07T14:57:42.491Z"
   },
   {
    "duration": 11,
    "start_time": "2023-10-07T14:57:42.500Z"
   },
   {
    "duration": 1436,
    "start_time": "2023-10-07T14:57:42.513Z"
   },
   {
    "duration": 5,
    "start_time": "2023-10-07T14:57:43.951Z"
   },
   {
    "duration": 7,
    "start_time": "2023-10-07T14:57:43.957Z"
   },
   {
    "duration": 9850,
    "start_time": "2023-10-07T14:57:43.966Z"
   },
   {
    "duration": 990,
    "start_time": "2023-10-07T19:30:07.431Z"
   },
   {
    "duration": 28,
    "start_time": "2023-10-07T19:30:08.422Z"
   },
   {
    "duration": 10,
    "start_time": "2023-10-07T19:30:08.451Z"
   },
   {
    "duration": 9,
    "start_time": "2023-10-07T19:30:08.462Z"
   },
   {
    "duration": 109,
    "start_time": "2023-10-07T19:30:08.473Z"
   },
   {
    "duration": 24,
    "start_time": "2023-10-07T19:30:08.583Z"
   },
   {
    "duration": 6,
    "start_time": "2023-10-07T19:30:08.609Z"
   },
   {
    "duration": 9,
    "start_time": "2023-10-07T19:30:08.617Z"
   },
   {
    "duration": 101,
    "start_time": "2023-10-07T19:30:08.628Z"
   },
   {
    "duration": 100,
    "start_time": "2023-10-07T19:30:08.730Z"
   },
   {
    "duration": 15,
    "start_time": "2023-10-07T19:30:08.840Z"
   },
   {
    "duration": 7,
    "start_time": "2023-10-07T19:30:08.857Z"
   },
   {
    "duration": 29,
    "start_time": "2023-10-07T19:30:08.865Z"
   },
   {
    "duration": 93,
    "start_time": "2023-10-07T19:30:08.897Z"
   },
   {
    "duration": 20,
    "start_time": "2023-10-07T19:30:08.991Z"
   },
   {
    "duration": 5,
    "start_time": "2023-10-07T19:30:09.012Z"
   },
   {
    "duration": 8,
    "start_time": "2023-10-07T19:30:09.018Z"
   },
   {
    "duration": 14,
    "start_time": "2023-10-07T19:30:09.027Z"
   },
   {
    "duration": 5,
    "start_time": "2023-10-07T19:30:09.042Z"
   },
   {
    "duration": 6,
    "start_time": "2023-10-07T19:30:09.048Z"
   },
   {
    "duration": 142,
    "start_time": "2023-10-07T19:30:09.055Z"
   },
   {
    "duration": 85,
    "start_time": "2023-10-07T19:30:09.198Z"
   },
   {
    "duration": 148,
    "start_time": "2023-10-07T19:30:09.285Z"
   },
   {
    "duration": 168,
    "start_time": "2023-10-07T19:30:09.434Z"
   },
   {
    "duration": 147,
    "start_time": "2023-10-07T19:30:09.603Z"
   },
   {
    "duration": 21,
    "start_time": "2023-10-07T19:30:09.752Z"
   },
   {
    "duration": 6,
    "start_time": "2023-10-07T19:30:09.775Z"
   },
   {
    "duration": 16,
    "start_time": "2023-10-07T19:30:09.782Z"
   },
   {
    "duration": 9,
    "start_time": "2023-10-07T19:30:09.799Z"
   },
   {
    "duration": 39,
    "start_time": "2023-10-07T19:30:09.809Z"
   },
   {
    "duration": 9,
    "start_time": "2023-10-07T19:30:09.849Z"
   },
   {
    "duration": 180,
    "start_time": "2023-10-07T19:30:09.859Z"
   },
   {
    "duration": 211,
    "start_time": "2023-10-07T19:30:10.041Z"
   },
   {
    "duration": 149,
    "start_time": "2023-10-07T19:30:10.253Z"
   },
   {
    "duration": 160,
    "start_time": "2023-10-07T19:30:10.404Z"
   },
   {
    "duration": 787,
    "start_time": "2023-10-07T19:30:10.566Z"
   },
   {
    "duration": 2,
    "start_time": "2023-10-07T19:30:11.355Z"
   },
   {
    "duration": 12,
    "start_time": "2023-10-07T19:30:11.359Z"
   },
   {
    "duration": 9,
    "start_time": "2023-10-07T19:30:11.372Z"
   },
   {
    "duration": 123,
    "start_time": "2023-10-07T19:30:11.382Z"
   },
   {
    "duration": 8,
    "start_time": "2023-10-07T19:30:11.508Z"
   },
   {
    "duration": 23,
    "start_time": "2023-10-07T19:30:11.517Z"
   },
   {
    "duration": 4,
    "start_time": "2023-10-07T19:30:11.541Z"
   },
   {
    "duration": 16,
    "start_time": "2023-10-07T19:30:11.546Z"
   },
   {
    "duration": 17,
    "start_time": "2023-10-07T19:30:11.563Z"
   },
   {
    "duration": 1177,
    "start_time": "2023-10-07T19:30:11.581Z"
   },
   {
    "duration": 5,
    "start_time": "2023-10-07T19:30:12.759Z"
   },
   {
    "duration": 67,
    "start_time": "2023-10-07T19:30:12.765Z"
   },
   {
    "duration": 7457,
    "start_time": "2023-10-07T19:30:12.833Z"
   }
  ],
  "kernelspec": {
   "display_name": "Python 3 (ipykernel)",
   "language": "python",
   "name": "python3"
  },
  "language_info": {
   "codemirror_mode": {
    "name": "ipython",
    "version": 3
   },
   "file_extension": ".py",
   "mimetype": "text/x-python",
   "name": "python",
   "nbconvert_exporter": "python",
   "pygments_lexer": "ipython3",
   "version": "3.9.5"
  },
  "toc": {
   "base_numbering": 1,
   "nav_menu": {},
   "number_sections": true,
   "sideBar": true,
   "skip_h1_title": true,
   "title_cell": "Table of Contents",
   "title_sidebar": "Contents",
   "toc_cell": false,
   "toc_position": {},
   "toc_section_display": true,
   "toc_window_display": false
  }
 },
 "nbformat": 4,
 "nbformat_minor": 5
}
